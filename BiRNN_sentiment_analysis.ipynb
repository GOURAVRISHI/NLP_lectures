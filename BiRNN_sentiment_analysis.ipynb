{
  "nbformat": 4,
  "nbformat_minor": 0,
  "metadata": {
    "colab": {
      "name": "BiRNN_sentiment_analysis.ipynb",
      "provenance": [],
      "collapsed_sections": [],
      "mount_file_id": "1mqzJCSVycW3frZCU1UnPGwQGKUBPhOAC",
      "authorship_tag": "ABX9TyMUjF/Ghd++75BF5Me7HPCi",
      "include_colab_link": true
    },
    "kernelspec": {
      "name": "python3",
      "display_name": "Python 3"
    },
    "language_info": {
      "name": "python"
    },
    "accelerator": "GPU"
  },
  "cells": [
    {
      "cell_type": "markdown",
      "metadata": {
        "id": "view-in-github",
        "colab_type": "text"
      },
      "source": [
        "<a href=\"https://colab.research.google.com/github/GOURAVRISHI/NLP_lectures/blob/main/BiRNN_sentiment_analysis.ipynb\" target=\"_parent\"><img src=\"https://colab.research.google.com/assets/colab-badge.svg\" alt=\"Open In Colab\"/></a>"
      ]
    },
    {
      "cell_type": "code",
      "execution_count": 76,
      "metadata": {
        "id": "50MqDSlrh0gX"
      },
      "outputs": [],
      "source": [
        "import os\n",
        "ROOT= \"/content/drive/MyDrive/Colab Notebooks/text_generation\"\n",
        "os.chdir(ROOT)"
      ]
    },
    {
      "cell_type": "code",
      "source": [
        "import tensorflow as tf\n",
        "import numpy as np\n",
        "\n",
        "import time\n",
        "import tensorflow_datasets as tfds\n",
        "import matplotlib.pyplot as plt "
      ],
      "metadata": {
        "id": "2ulstj1UiAko"
      },
      "execution_count": 77,
      "outputs": []
    },
    {
      "cell_type": "code",
      "source": [
        "dataset_name= \"imdb_reviews\"\n",
        "\n",
        "dataset, info= tfds.load(dataset_name , with_info= True, as_supervised= True)"
      ],
      "metadata": {
        "id": "ryLEOHGviA16"
      },
      "execution_count": 78,
      "outputs": []
    },
    {
      "cell_type": "code",
      "source": [
        "dataset.keys()"
      ],
      "metadata": {
        "colab": {
          "base_uri": "https://localhost:8080/"
        },
        "id": "9GTIMWpFiA7H",
        "outputId": "1709f24e-fe31-40ba-c8b8-1fdd886bc634"
      },
      "execution_count": 79,
      "outputs": [
        {
          "output_type": "execute_result",
          "data": {
            "text/plain": [
              "dict_keys(['test', 'train', 'unsupervised'])"
            ]
          },
          "metadata": {},
          "execution_count": 79
        }
      ]
    },
    {
      "cell_type": "code",
      "source": [
        "info"
      ],
      "metadata": {
        "colab": {
          "base_uri": "https://localhost:8080/"
        },
        "id": "kFM8jGiki4AM",
        "outputId": "407737e6-6cfa-4aa5-96df-1be86a2051d1"
      },
      "execution_count": 80,
      "outputs": [
        {
          "output_type": "execute_result",
          "data": {
            "text/plain": [
              "tfds.core.DatasetInfo(\n",
              "    name='imdb_reviews',\n",
              "    version=1.0.0,\n",
              "    description='Large Movie Review Dataset.\n",
              "This is a dataset for binary sentiment classification containing substantially more data than previous benchmark datasets. We provide a set of 25,000 highly polar movie reviews for training, and 25,000 for testing. There is additional unlabeled data for use as well.',\n",
              "    homepage='http://ai.stanford.edu/~amaas/data/sentiment/',\n",
              "    features=FeaturesDict({\n",
              "        'label': ClassLabel(shape=(), dtype=tf.int64, num_classes=2),\n",
              "        'text': Text(shape=(), dtype=tf.string),\n",
              "    }),\n",
              "    total_num_examples=100000,\n",
              "    splits={\n",
              "        'test': 25000,\n",
              "        'train': 25000,\n",
              "        'unsupervised': 50000,\n",
              "    },\n",
              "    supervised_keys=('text', 'label'),\n",
              "    citation=\"\"\"@InProceedings{maas-EtAl:2011:ACL-HLT2011,\n",
              "      author    = {Maas, Andrew L.  and  Daly, Raymond E.  and  Pham, Peter T.  and  Huang, Dan  and  Ng, Andrew Y.  and  Potts, Christopher},\n",
              "      title     = {Learning Word Vectors for Sentiment Analysis},\n",
              "      booktitle = {Proceedings of the 49th Annual Meeting of the Association for Computational Linguistics: Human Language Technologies},\n",
              "      month     = {June},\n",
              "      year      = {2011},\n",
              "      address   = {Portland, Oregon, USA},\n",
              "      publisher = {Association for Computational Linguistics},\n",
              "      pages     = {142--150},\n",
              "      url       = {http://www.aclweb.org/anthology/P11-1015}\n",
              "    }\"\"\",\n",
              "    redistribution_info=,\n",
              ")"
            ]
          },
          "metadata": {},
          "execution_count": 80
        }
      ]
    },
    {
      "cell_type": "code",
      "source": [
        "info.name"
      ],
      "metadata": {
        "colab": {
          "base_uri": "https://localhost:8080/",
          "height": 36
        },
        "id": "LPO7L2FAi4Ef",
        "outputId": "fccaf15d-f7b7-4e91-ed2c-da0c72527221"
      },
      "execution_count": 81,
      "outputs": [
        {
          "output_type": "execute_result",
          "data": {
            "text/plain": [
              "'imdb_reviews'"
            ],
            "application/vnd.google.colaboratory.intrinsic+json": {
              "type": "string"
            }
          },
          "metadata": {},
          "execution_count": 81
        }
      ]
    },
    {
      "cell_type": "code",
      "source": [
        "info.citation"
      ],
      "metadata": {
        "colab": {
          "base_uri": "https://localhost:8080/",
          "height": 88
        },
        "id": "2h7LbjKYi4JS",
        "outputId": "c768ceab-c6d3-4dc6-f3b0-595479dc32d8"
      },
      "execution_count": 82,
      "outputs": [
        {
          "output_type": "execute_result",
          "data": {
            "text/plain": [
              "'@InProceedings{maas-EtAl:2011:ACL-HLT2011,\\n  author    = {Maas, Andrew L.  and  Daly, Raymond E.  and  Pham, Peter T.  and  Huang, Dan  and  Ng, Andrew Y.  and  Potts, Christopher},\\n  title     = {Learning Word Vectors for Sentiment Analysis},\\n  booktitle = {Proceedings of the 49th Annual Meeting of the Association for Computational Linguistics: Human Language Technologies},\\n  month     = {June},\\n  year      = {2011},\\n  address   = {Portland, Oregon, USA},\\n  publisher = {Association for Computational Linguistics},\\n  pages     = {142--150},\\n  url       = {http://www.aclweb.org/anthology/P11-1015}\\n}'"
            ],
            "application/vnd.google.colaboratory.intrinsic+json": {
              "type": "string"
            }
          },
          "metadata": {},
          "execution_count": 82
        }
      ]
    },
    {
      "cell_type": "code",
      "source": [
        "train_ds, test_ds = dataset[\"train\"], dataset[\"test\"]"
      ],
      "metadata": {
        "id": "-Y9Q4tDQi4Nv"
      },
      "execution_count": 91,
      "outputs": []
    },
    {
      "cell_type": "code",
      "source": [
        "for example, label in train_ds.take(3):\n",
        "  print(f\"sample text:\\n{example.numpy()}\\n\")\n",
        "  print(f\"label:\\n{label.numpy()}\\n\")"
      ],
      "metadata": {
        "colab": {
          "base_uri": "https://localhost:8080/"
        },
        "id": "fBxKZpIFiA_P",
        "outputId": "cc11e0d4-7ba3-41c6-bc2c-b995b8358f07"
      },
      "execution_count": 92,
      "outputs": [
        {
          "output_type": "stream",
          "name": "stdout",
          "text": [
            "sample text:\n",
            "b\"This was an absolutely terrible movie. Don't be lured in by Christopher Walken or Michael Ironside. Both are great actors, but this must simply be their worst role in history. Even their great acting could not redeem this movie's ridiculous storyline. This movie is an early nineties US propaganda piece. The most pathetic scenes were those when the Columbian rebels were making their cases for revolutions. Maria Conchita Alonso appeared phony, and her pseudo-love affair with Walken was nothing but a pathetic emotional plug in a movie that was devoid of any real meaning. I am disappointed that there are movies like this, ruining actor's like Christopher Walken's good name. I could barely sit through it.\"\n",
            "\n",
            "label:\n",
            "0\n",
            "\n",
            "sample text:\n",
            "b'I have been known to fall asleep during films, but this is usually due to a combination of things including, really tired, being warm and comfortable on the sette and having just eaten a lot. However on this occasion I fell asleep because the film was rubbish. The plot development was constant. Constantly slow and boring. Things seemed to happen, but with no explanation of what was causing them or why. I admit, I may have missed part of the film, but i watched the majority of it and everything just seemed to happen of its own accord without any real concern for anything else. I cant recommend this film at all.'\n",
            "\n",
            "label:\n",
            "0\n",
            "\n",
            "sample text:\n",
            "b'Mann photographs the Alberta Rocky Mountains in a superb fashion, and Jimmy Stewart and Walter Brennan give enjoyable performances as they always seem to do. <br /><br />But come on Hollywood - a Mountie telling the people of Dawson City, Yukon to elect themselves a marshal (yes a marshal!) and to enforce the law themselves, then gunfighters battling it out on the streets for control of the town? <br /><br />Nothing even remotely resembling that happened on the Canadian side of the border during the Klondike gold rush. Mr. Mann and company appear to have mistaken Dawson City for Deadwood, the Canadian North for the American Wild West.<br /><br />Canadian viewers be prepared for a Reefer Madness type of enjoyable howl with this ludicrous plot, or, to shake your head in disgust.'\n",
            "\n",
            "label:\n",
            "0\n",
            "\n"
          ]
        }
      ]
    },
    {
      "cell_type": "code",
      "source": [
        "print(info.description)"
      ],
      "metadata": {
        "colab": {
          "base_uri": "https://localhost:8080/"
        },
        "id": "Zap5andMiBDt",
        "outputId": "2bb3eb82-13ee-463f-f012-90ffa1e11ff2"
      },
      "execution_count": 85,
      "outputs": [
        {
          "output_type": "stream",
          "name": "stdout",
          "text": [
            "Large Movie Review Dataset.\n",
            "This is a dataset for binary sentiment classification containing substantially more data than previous benchmark datasets. We provide a set of 25,000 highly polar movie reviews for training, and 25,000 for testing. There is additional unlabeled data for use as well.\n"
          ]
        }
      ]
    },
    {
      "cell_type": "code",
      "source": [
        "class Config:\n",
        "  BUFFER_SIZE = 10000\n",
        "  BATCH_SIZE = 64\n",
        "  VOCAB_SIZE = 1000\n",
        "  OUTPUT_DIM = 64\n",
        "  EPOCHS = 10\n",
        "  BASE_LOG_DIR = \"base_log_dir\"\n",
        "  TRAINED_MODEL_DIR = os.path.join(BASE_LOG_DIR, \"models\")\n",
        "  CHECKPOINT_DIR = os.path.join(BASE_LOG_DIR, \"ckpt\")\n",
        "  TB_ROOT_LOG_DIR = os.path.join(BASE_LOG_DIR, \"tb_log_dir\")"
      ],
      "metadata": {
        "id": "WVoN7H9Xwqn-"
      },
      "execution_count": 93,
      "outputs": []
    },
    {
      "cell_type": "code",
      "source": [
        "# shuffling and batching in training dataset\n",
        "# AUTOTUNE - will pick up a number dynamically for you\n",
        "\n",
        "train_ds = train_ds.shuffle(Config.BUFFER_SIZE).batch(Config.BATCH_SIZE).prefetch(tf.data.AUTOTUNE)\n",
        "test_ds = test_ds.batch(Config.BATCH_SIZE).prefetch(tf.data.AUTOTUNE)\n"
      ],
      "metadata": {
        "id": "H09mBgMylTHP"
      },
      "execution_count": 94,
      "outputs": []
    },
    {
      "cell_type": "code",
      "source": [
        "for example, label in train_ds.take(1):\n",
        "  print(f\"sample text:\\n{example.numpy()}\\n\")\n",
        "  print(f\"label:\\n{label.numpy()}\\n\")\n",
        "  print(f\"label length:{len(label.numpy())}\\n\")\n"
      ],
      "metadata": {
        "colab": {
          "base_uri": "https://localhost:8080/"
        },
        "id": "GMojBA4ImMuU",
        "outputId": "a707dfaf-0aee-4338-c5b9-1a09588c2ad2"
      },
      "execution_count": 95,
      "outputs": [
        {
          "output_type": "stream",
          "name": "stdout",
          "text": [
            "sample text:\n",
            "[b\"'Renaissance (2006)' was created over a period of six years, co-funded by France, Luxembourg and the United Kingdom at a cost of around \\xc2\\x8014 million. The final result is a staggering accomplishment of comic-book style animation, aesthetically similar to what Robert Rodriguez and Frank Miller achieved with 'Sin City (2005),' but this film employed motion capture with live-actors to translate their faces and movements into an entirely animated format. Presented in stark black-and-white, the film looks as though it has been hoisted from the very pages of the graphic novel on which it was based, and the futuristic city of Paris looms ominously above us. Directed by French filmmaker Christian Volckman, in his feature-length debut, 'Renaissance' draws significantly from other films in the science-fiction genre, and the tech-noir storyline isn't something we haven't seen before, but, from a technical standpoint, it is faultless.<br /><br />The year is 2054. The city of Paris is a crumbling metropolis filled with dark alleys and deserted footpaths, the recent installation of modern technology merely offering a thin mask to the pitiable degradation of the darkened buildings. The city's largest corporation, Avalon, achieved wealth through offering citizens the promise of beauty and youth, and the company's research department is continually striving to invent greater means of eliminating the aging process. Ilona Tasuiev (voiced by Romola Garai in the English-language version, which I watched) , a brilliant young scientist, is mysteriously kidnapped on her return from work, and so it falls to legendary detective Barth\\xc3\\xa9l\\xc3\\xa9my Karas (Daniel Craig) to uncover her current whereabouts. Possibly holding the key to the woman's disappearance is Bislane (Catherine McCormack), Ilona's hardened elder sister, whose trustworthiness is in question, and Jonas Muller (Ian Holm), the dedicated medical doctor who adored Ilona as his own daughter.<br /><br />The eerie, dimly-lit city of Paris is reminiscent of Ridley Scott's 'Blade Runner (1982),' and some of the technology looks as though it might have been borrowed from Tom Cruise in 'Minority Report (2002)' {which was, coincidentally, also set in the year 2054}. However, despite this familiarity, Volckman has created an exciting world for his characters to inhabit. Blending classic film-noir and science-fiction, the result is an eye-catching collage of harsh lighting and dark shadows, which, I should warn, occasionally becomes difficult on the viewer's eyes. The dialogue is a little banal at times, and the story, though engaging, doesn't offer anything strikingly original {except for the ending, which I thought was a bold twist on the usual formula}, but 'Renaissance' is intended to work best as a visual treat, and that it succeeds in this regard cannot be denied.\"\n",
            " b\"A thin story with many fine shots. Eyecatchers here are the three ladies from the D.R.E.A.M. team. And, to a lesser extent, the guy accompanying them. Traci Lords convincingly acts out the female half of an evil business-couple intending to poison the world with antrax. Original in this movie is the bra-bomb, put on a captured member of the D.R.E.A.M.-team. Of course she is rescued by a co-member, three seconds before explosion. Although clearly lent from James Bond's 'Goldfinger' and 'You only live twice', such a climax always works well. All in all a nice watch, James Bond replaced here by three Charlie's Angels.\"\n",
            " b\"Grieving couple move to a cabin on a mountain after the loss of their daughter, discovering that there may be ghosts haunting the place, restless spirits of past occupants who committed suicide. Julie Pyke(Cheri Christian)blames husband Allen(Greg Thompson)for the horrible death of their daughter due to leaving the door unlocked and the marriage has deteriorated because of it. Julie remains in a zombie state, eliciting next to no emotion, remote and numb, only photographing a nearby abandoned prison, finding a startling image of a ghoul girl clinging to the bars of a cell. Though Allen doesn't see anything out of the ordinary, Julie continues to take pictures and we can recognize that something isn't quite right. A local handyman, Jim Payne(Scott Hodges), a rather distant fellow who harbors a secret becomes a dangerous threat when it is revealed that his dead mother might have something to do with the haunts occurring to the Pykes. Meanwhile the neighbors who sold the Pykes the cabin find themselves victims as well, alcoholic Mr Booth's abuse to his wife coming back to haunt him. Allen will conduct an investigation into the history of his cabin, attempting to unravel the mystery about the place.<br /><br />Plenty of ghosts moving about in the background in this somber supernatural tale with practically every character miserable. Cheri Christian remains so vacuous and lost, it's incredibly hard to connect with her despite the fact that you understand her plight. The acting, as is often mentioned, remains frustrating because none of the characters exactly are easy to latch on to. I guess it's supposed to be this way, under their circumstances, but the trouble I had was never being able to properly embrace the Pykes due to their constant state of aloofness. Cheri comes off as cold and detached, as I figure a mother would tend to be when you lose a child in such a way, but the icy nature left me pleading inside to embrace her which I just never could. I think the right performers, even if the characters are going through an emotional turmoil, can grab the hearts of their viewers, if a humanity reaches out to us..in this movie's case, the leads are unable to do so, for whatever reason. It could've been me, I don't know. I wanted to care for them, but nothing in the characters tugged on my heart strings. Anyway, as the film continues, Allen slowly uncovers certain truths and must defend himself against his wife who has convinced herself that their daughter is among them and she won't lose her little girl again. Jim, the unstable neighbor who believes that to stop the hauntings plaguing the area he must kill the Pykes, becomes a vital threat. The ghosts remain a central part of the movie, their presence, particularly Jim's mother, established throughout, off in the distance. The finale reveals all of them as Allen must find help for his wife while trying to thwart Jim's mission. I had a hard time getting into this one due to my unease with the leads and their characters.\"\n",
            " b'If the scale went negative I would be happier. Seeing Sushmita Sen was nice, and Nisha Kothari has a bright future but the producer and the director ruined any and all enjoyment in this story. The choice of angles, choice of lighting and well everything distracted from trying to remember what is the story. Oh, if the songs and dances haven\\'t caused you to rip your ears off your head, first. The film could have been made twice at 1.25 hours, and been pretty good, kinda like \"Seven Samurai\" but the director and writer didn\\'t go that direction, even if the \"townsfolk\" finally find their backbone and want to help. This movie fails on so many levels: editing, writing, photography angles, style, lighting, script - name any aspect of this film - it was BAD - probably the food from the caterer was bad too. I have never in 6 years of watching Indian (Bollywood) movies seen something this badly made.'\n",
            " b\"Man I must say when I saw the trailer I was excited. Futuristic soldiers, taking on bad ass Vampires led by genre vet Michael Ironside....In Space. I mean I wasn't expecting high art, but It looked like a potential B movie classic. This was no doubt a TV pilot, reedited some time later into a feature film, after it wasn't picked up. Alright I'll start with the films few good points, the action was competent for a lower budgeted film, and the CGI and locations used were passable. Now onto the bad, first off Michael Ironside was barley in this, and his performance here....well it was cheesy not in a good way. But as I said he wasn't in it much anyways, so I can't blame him. One thing that was really stupid, was the PETA type group for Vampires', no I'm not joking, it's the dumbest most unbelievable thing I've seen in along time, and it's taken seriously. Also this film commits one of the major B movie sins, it teases a lesbian scene, and doesn't deliver. Most of all what sinks this film is nothing really happens. Since it was meant to be a pilot the script is almost nonexistent and it doesn't have a regular ending. Even the main villains, only come in towards the end. If ever a movie needed to up the Sleaze and gore factor, it's Vampire Wars. In closing I will say the main crew on the spaceship, were all very capable actors and could very well put this mess behind them, and go on to bigger and better things. They just had nothing to work with here.\"\n",
            " b\"I saw the movie late one night on cable and could not believe how bad it was. I usually enjoy bad movies, but this one was so revolting that it wasn't even entertaining. Some of the highlights of this film include the absurd music which is constantly playing throughout the movie, the hideous special effects (when someone is shot with a laser gun they turn neon green and promptly disintegrate), and the disgusting acting. The acting, in fact, is what I feel steals the show. I didn't recognize any of the actors in the movie, and I hope that I never have to see any of them again. Overall, I recommend renting this movie (if you can find it; I can't imagine a video store carrying this garbage) just so that you can learn to appreciate quality films after seeing this trash.\"\n",
            " b\"After seeing this film I feel like I know just a little bit more about the USA. David Lynch is synonymous with shock value and weird for weirdness sake, and indeed these elements are not missing from The Straight Story. However it is in a light that I have not witnessed from Lynch before. We begin with a simple family living a quiet life but end up with an array of absurdly interesting characters with depth in their lives that cannot be apparent from their introduction. Especially moving was the bar scene with two WWII veterans discussing the events of fifty years ago and how it still affected their current lives and emotions. If you are looking for Wild at Heart or Dune, don't look here. But if you are looking for real people with real stories this is the film for you.\"\n",
            " b'Cafe Lumiere is a beautifully photographed nullity. Unacquainted with the work of the director, I am well-acquainted with the filmmaker he is supposedly paying tribute to - Ozu Yasujiro. While not even approaching Ozu in greatness, Hou has communicated nothing of Ozu\\'s depth of emotion and concentration on meaning within a closed space. One of the things he misses entirely is Ozu\\'s attention to character - we are not even \"introduced\" by Hou to his lead character (a perfect blank page). There are no medium or close shots of his people. One of the DVD extras offers interviews with the actors and gives us precisely what Hou doesn\\'t - a good look at their faces.<br /><br />There was a great Spanish film by Bardem called Nunca Pasa Nada, which translates to something like \"Nothing Ever Happens\". That would be a far better title to this pointless exercise. All through the film we are given clues about an obscure Taiwanese composer some of whose work we hear on the soundtrack. But the clues, like everything else, add up to nothing. Unless you\\'re a trainspotter, this film has nothing to recommend it.'\n",
            " b'I have to say that this miniseries was the best interpretation of the beloved novel \"Jane Eyre\". Both Dalton and Clarke are very believable as Rochester and Jane. I\\'ve seen other versions, but none compare to this one. The best one for me. I could never imagine anyone else playing these characters ever again. The last time I saw this one was in 1984 when I was only 13. At that time, I was a bookworm and I had just read Charlotte Bronte\\'s novel. I was completely enchanted by this miniseries and I remember not missing any of the episodes. I\\'d like to see it again because it\\'s so good. :-)'\n",
            " b\"I bought Unhinged because I got suckered by the gory picture on the cover. If you want to see all the good parts of the movie just look on the back of the box. All the kills are shown and I can honestly tell you that they look much better in the still frames than they do in the movie.<br /><br />Having said that, let's look at the plot. A group of college girls driving to a rock concert (by way of the deep, dark woods in one of the longest driving sequences ever captured on celluloid) slide off the road. No visible damage is done to the car but apparently it was enough to put one of the characters in a comatose state for the rest of the film (or perhaps she read the script and was already in a coma before filming began).<br /><br />The two remaining girls wake up in a big, isolated house. The house, by the way, is fabulous and manages more drama just by its presence than any of the actors in the film. For some reason, though, this house has no roads going to it. The only way you can get to the main road is by hiking five miles through the woods. The girls spend the rest of Unhinged sitting around listening to weird conversations between an old rich bitch (who looks like George Washington in drag) and her equally homely, sexually repressed daughter. The girls apparently were in no hurry to get back from that concert anyway being that they packed more clothes than the cast of Gilligan's Island for that three hour tour.<br /><br />By the time we, the viewers, get to the kill scenes, we no longer care. We wish that someone would kill us just to end our suffering . Unhinged finally wraps up with a quite shocking ending that deserved to be in a much better film. It's almost as though the ending, the one good idea in the film, was written first and then the writers tried to make a movie leading up to it.<br /><br />Unhinged is ultimately a boring film with bad acting, inept directing, and a plot with more holes than a leper in a porno film (sorry. I'm not sure where that came from). You will get an idea of how bad this movie is during the opening credits when, for some reason that is never explained, the screen goes black for about two minutes while the characters talk about nothing worth remembering. Don't waste your time. You'll just feel Unhinged and want your time and money back.\"\n",
            " b'First, IFC runs Town and Country, and now this. The difference between that stinker and this Pink Panther rip-off is that Town and Country was watchable. This isn\\'t.<br /><br />I can only surmise that the cast signed up for this so they could goof off in Europe on somebody else\\'s dime. Belushi is especially irritating. His scene with Candy (doing a Z-grade Dom DeLuise) was torture. Speaking of torture, five minutes of the talentless Shepherd, and I bet the prisoners at Gitmo would crack like walnuts!<br /><br />The real \"Crime\" (besides this being green-lighted) is Shepherd\\'s character: a mousy wife who takes a Monte Carlo casino for a half-million bucks! If you buy that, I have some oceanfront property in Arizona you might be interested in!'\n",
            " b'<br /><br />Human Body --- WoW.<br /><br />There are about 27,000 Sunrises in human life....<br /><br />Hardly one thousand Sunrises will be watched by 90% of Humans on this planet....<br /><br />Our days are limited...<br /><br />Excellent movie for all women.... makers of human body...<br /><br />Thanks and Regards.<br /><br />'\n",
            " b\"This movie is the first of Miikes triad society trilogy, and the trilogy kicks of to a great start. The movies in the trilogy are only connected thematically, and these themes are actually apparent in all his films, if you look close enough. Shinjuku Triad Society is about a cop trying to prevent his kid brother from getting too involved with a rather extreme gang of outsiders, struggling their way to the top of Tokyos yakuza. The kid brother is a lawyer, and the triad gang is becoming increasingly in need of one, as the movie progresses. The movie takes place in a very harsh environment, and is therefore pretty violent and tough. Miike has done worse, but since this is a serious movie it hits you very hard. As usual there is also a lot of perverted sex, mostly homosexual in this one. The movie is in many ways a typical gangster movie, but with a great drive and true grittiness. If you've only seen Miikes far-out movies (Ichi the killer, Fudoh etc.) this is worth checking out since it is sort of a compromise between his aggressive over-the-top style displayed in those movies and his more serious side, as seen in the other films of the trilogy. And as always with Miike, there are at least two scenes in this that you'll NEVER forget (see it and figure out which ones for yourself).<br /><br />8/10\"\n",
            " b'Bette Midler showcases her talents and beauty in \"Diva Las Vegas\". I am thrilled that I taped it and I am able to view whenever I want to. She possesses what it takes to keep an audience in captivity. Her voice is as beautiful as ever and will truly impress you. The highlight of the show was her singing \"Stay With Me\" from her 1979 movie \"The Rose\". You can feel the emotion in the song and will end up having goose bumps. The show will leave you with the urge to go out and either rent a Bette Midler movie or go to the nearest music store and purchase one of Bette Midler\\'s albums.'\n",
            " b'If I accidentally stumbled across this script in textual form i would read it and maybe laugh. I would not, however laugh at the points in the film where the director would seem to want me to laugh. Although I am still not altogether sure where these are. I don\\'t care if this is Woody Allen, this writer cannot write dialogue, or at least he cannot knowingly write dialogue then draw performances from actors capable of drawing laughter from even the most ticklish of clowns. For example:<br /><br />(paraphrase) \"I\\'m an art historian, i\\'m looking to get a job in an art gallery.\" <br /><br />OK, so it states the fact but honestly, do you know of any art historians who would say that? How would you answer? <br /><br />\"Really? An art gallery? who would\\'ve thought it?\"<br /><br />The entire script is littered with the kind of tawdry quasi-intellectualism that i would not have expected from such a respected character writer. I admit that I have no knowledge of Allen\\'s other work and, judging by this one i don\\'t want to start learning. The characters are loathsome without exception, an attempt to illustrate that we all suffer from the human condition? Or really really poor character writing? You be the judge.'\n",
            " b'From the stupid \"quaint African natives\" travelogue footage with our badly-superimposed principals acting as narrators, to the horrible fake ears which transform docile Indian elephants into African elephants, to the utter lack of any logic at all, to Maureen O\\'Sullivan\\'s incessant whining of \"Tarzan! Tarzan!\", there is nothing about this movie which deserves classic status.<br /><br />4/10'\n",
            " b'Working-class romantic drama from director Martin Ritt is as unbelievable as they come, yet there are moments of pleasure due mostly to the charisma of stars Jane Fonda and Robert De Niro (both terrific). She\\'s a widow who can\\'t move on, he\\'s illiterate and a closet-inventor--you can probably guess the rest. Adaptation of Pat Barker\\'s novel \"Union Street\" (a better title!) is so laid-back it verges on bland, and the film\\'s editing is a mess, but it\\'s still pleasant; a rosy-hued blue-collar fantasy. There are no overtures to serious issues (even the illiteracy angle is just a plot-tool for the ensuing love story) and no real fireworks, though the characters are intentionally a bit colorless and the leads are toned down to an interesting degree. The finale is pure fluff--and cynics will find it difficult to swallow--though these two characters deserve a happy ending and the picture wouldn\\'t really be satisfying any other way. *** from ****'\n",
            " b\"Four great stories from master Robert Bloch, adapted to the screen by the best actors in the field in the early Seventies, are the base of this excellent Amicus' production. This was a kind of movie very popular in the Sixties till the mid-Seventies and it's one of my favorite type of horror movies. This one in particular shines for the episode Sweets to the Sweet, where Christopher Lee is stalked by his evil little girl child, heiress to her mother tradition. Great fun from start to finish, and good to very good are also the other three episodes (with the last one a bit on the comic side, but with the great addition of Ingrid Pitt, the most famous vampress of the English cinema.\"\n",
            " b'This movie should be called \"plan 9 from joseph smith.\" i think its weirdness is underappreciated. the playwright seems to have read paul ehrlich\\'s \"the population bomb (1968),\" and crafted a musical response made especially for mormons. the whole point of the play is that having as many children as you can is part of \"heavenly father\\'s\" (god\\'s) plan. and anything that stands in the way of having more babies is very bad. get it?<br /><br />This version was filmed in 1989, which is confusing. it\\'s utah, so it looks and feels like 1983, the play was actually written in 1973, and of course, the theology is part 1840\\'s, part battlestar galactica. some of the action takes place on earth and some in the \"pre-existence, an aimless romper-room where annoying kids wait to get their bodies so they can come down try not to slam the door on the missionaries, losing their shot at celestial glory.<br /><br />it is as stagey as they come, but don\\'t let the poor theatrics spoil your appreciation for this demented mormon universe where the \\'cool kids\\' are all into population control, (presumably) counseling their parents not to have any more children!! having big families was, at the time the play was written, the cultural norm in the lds community, and more importantly, considered part of God\\'s plan. the church has since done a 180, and have made family planning a choice of the parents, and large families are much less the cultural norm now. making the entire doctrinal premise of the movie for a modern-day mormon moot!<br /><br />ahhh but it\\'s really only as good as the music. there are some catchy tunes here that just won\\'t let this movie die the 1970\\'s death it was pre-destined for. the brother and sister sing some love songs to each other that make you wonder if maybe something else was going on there --wink. and the tough, cool kids make new kids on the block look like metallica. so cheers to all that! gather the family around, make some jell-o shooters and enjoy the show!<br /><br />'\n",
            " b'Don\\'t read anything about this movie (especially nothing that could contain any spoilers). Just watch this awesome movie without knowing anything about it - and you\\'ll have a really great experience. If you like to see an intelligent, twisted story: Go, get the DVD and you\\'ll truly not be disappointed. \"Cypher\" is not really a sci-fi movie, more a psycho thriller settled in the environment of globalized business. It\\'s about corporate secrets, how big companies spy each others research departments and the methods used by them. The actors do a great performance and the overall visual style of the movie provides a perfect mode of coldness. Cypher is much deeper, more complex and - what belongs the story and the ending - also much, much more satisfying than Vincenzo Natali\\'s other movies \"Cube\" and \"Nothing\". Actually it\\'s one of the best movies I\\'ve ever seen (and that\\'s something I really don\\'t say this about every fifth well-made flick). Sorry, can\\'t tell you anything more about this movie without risking to hurt your experience. Just give it a chance. ;-)'\n",
            " b'A movie/documentary about different people in Austria on the hottest weekend of the year. It follows what they are doing and maybe more what they are not doing. The tempo is very quiet......so you have to relax.......breathe in...breathe out before you see it......<br /><br />First you think....but nothing is happening and you get a little angry over that..and thats the problem, because its the mood of the film and the really nice social realistic pictures which are nice in this film...........a lot of people will say its disgusting......but its not that bad...i think its more used for the marketing....and theres some really funny moments...a 60 old woman stripping.....i guarantee its the most unsexy striptease in film history......its movie which is real..i think thats the word......right up in your face.......and that makes it a bit scary.no computer manipulation here.....its real life...and as we all know movies can win over reality when it comes to doing sick things..........so its much worse in the real world.......<br /><br />If you survive the movie you can start to look at your neighbors and think...maybe they are like the persons in the movie...i bet theres a lot of them out there......sick...crazy people living with a nice facade........after seing the movie i feel its more interesting to look at my neighbors........<br /><br />But maybe you shouldnt see this movie on your first date.........'\n",
            " b'This documentary makes you travel all around the globe. It contains rare and stunning sequels from the wilderness. It shows you how diversified and how fragile our planet can be. The polar bear\\'s future is highlighted at the beginning and at the end of it. After all, its bleak future is closely linked with the consequences of global warming. This documentary is however a simplistic approach of such a serious environmental issue. It can nonetheless be easily seen by young children since it mainly remains descriptive. Scientists might well be disappointed as it is not a remake of Al Gore\\'s documentary \"An inconvenient truth\" but frankly...what a description!!! A question may then arise: Isn\\'t it worth preserving our world\\'s beauty? Because this documentary proves that in 2007 such a beauty still exists despite the different pollutions. By living in towns and cities we tend to forget that we are part and parcel of this nature. All things considered this documentary reminds us that we own a common treasure called \"EARTH\".'\n",
            " b\"A doctor and a policeman in New Orleans have only 48 hours to locate a killer infected with pneumonic plague.<br /><br />An effective, and classy, little thriller directed by Elia Kazan that blends documentary realism with a race against time pulpy heartbeat. Set and filmed in and around New Orleans, Panic In The Streets is taken from the story Quarantine, Some Like 'em Cold by Edna and Edward Anhalt who won an Oscar for original story. It also boasts a fine ensemble cast that deliver top rate performances for their director. In turn, Richard Widmark {bringing the method a year before Marlon did for Kazan in A Streetcar Named Desire}, Paul Douglas, Jack Palance (as Walter Jack Palance) & the wonderfully named Zero Mostel, all get sweatily moody as the pursuers chase the pursued to halt the onset of a potential Black Death epidemic.<br /><br />Where the film scores its main suspense points is with Kazan's astute ability to cut back and forth between the protagonists without altering the flow and mood of the piece. From Widmark's Public Health doctor, with hypodermic needle in hand, running around trying to locate the bad guys so he can do good; to the bad guys themselves who are bemused as to why there is such a wide scale hunt for them; the tension is stacked up to fever breaking point. To which thankfully the final thirty minutes becomes a cracking piece of cinema. With Palance excelling as a nasty villain that ironically puts one in mind of Widmark's own Tommy Udo from Kiss Of Death three years prior.<br /><br />It's an imaginative and intelligently written story, one that cunningly links rats and criminals to being carriers of disease. A blight on society as it were. It's noirish elements, such as paranoia, blend nicely with its basic procedural thriller being. While some memorable scenes are suitably cloaked by the stifling atmosphere that Kazan has created. Although some of the early character psychologizing threatens to steer the film down some over talky based alleyway, this definitely is a film worth staying with to the end. Not essential film-noir, and maybe not even essential Kazan, but certainly a highly recommended film that begs to be discovered by a new generation of film lovers and reappraised by the old guard who may have missed it back in the day. 7.5/10\"\n",
            " b\"The lead characters in this movie fall into two categories: smart and stupid. Simple enough.<br /><br />Jiri Machacek (Standa) plays a hapless, dopey guy who gets arrested for a crime he did not commit. When he tries to get financially reimbursed by his evil, former boss, the situation gets out of control.<br /><br />While Standa is genuinely (but endearingly) stupid, his buddy Ondrej is an absolute blithering idiot who bungles everything and manages to say and do the wrong thing every time. Without Ondrej, Standa might stand a chance of going through life with some modest degree of success. With Ondrej, life will never be boring, but it sure won't be without a lot of headaches!<br /><br />Ivan Trojan plays Zdenek, an evil genius type who degenerates into some Hitler-esquire delusional tyrant. Zdenek and his henchmen try to kill Standa to keep Zdenek's secrets safe.<br /><br />I am very impressed with the high quality and imagination of Czech films. For a relatively small country, the Czech Republic certainly has produced more than its share of superb entertainment. The best Czech movies I have seen are: 1) Peli\\xc2\\x9aky and 2) Tmavomodr\\xc3\\xbd Svet (Dark Blue World). If you see these two movies, you have seen the absolute best of Czech cinema.\"\n",
            " b\"I've seen this movie when I was young, and I remembered it as one of the first films I have truly liked that was not an action movie or a comedy. So, in my later years I decided to watch it again and see if it was just nostalgia or was there really something in that movie. To my surprise, the movie held to my every expectations. It's a great movie. Emotional in the right amount, some jokes, nice songs (not great though, and that actually explains why I did not remember it was a musical) and all in all a great use to my time. I was surprised because the last movies from my childhood that I have revisited did not even pass my minimal demands of a decent movie and yet this movie, which I first saw in the second grade, made me cry today just like it made me cry then. Maybe that's because my dog died recently and maybe not, but the important thing is that it made me feel, and that's why filmmakers make films (that and the money, of course). Yes, there are continuity glitches. Yes, the script has holes, but it doesn't matter. The movie itself is fun and smart. So don't be fooled by cynical people who always look for the bad things in life, because nothing is perfect, and this movie gets a 10 not because it is perfect. It gets 10 simply because it made me feel.\"\n",
            " b'This film is the best film Jim Carrey has ever made. Carrey did not have his usual face making stuff in this film. He was both funny and sad. Carrey played a reporter named Bruce Nolan. Nolan blames God(Morgan Freeman) for everything that goes wrong in his life. Then, God comes down from heaven and gives Bruce his powers. As I said before, Carrey did an excellent job. I also thought that Morgan Freeman and Jennifer Aniston were great as supporting actor/actress. The plot was good because it had many subpoints in the main point. This movie can be funny(Bruce\\'s dog) as well as sad(the \"break-up\"). The script worked well, too. I am glad they made a sequel to this film. I rate this film a 9/10.'\n",
            " b\"Updating of the Bliss theme is merely the latest in a lengthening queue of bad-to-average local comedies which appeal to the conservative cinema-going set. (For the record, this list, all of the films on which appear to be attempting a Castle-esque miracle, includes, Strange Bedfellows, Thunderstruck, Bad Eggs, The Honourable Wally Norman, Horseplay, The Wannabes and The Nugget. The only one to have worked has been Crackerjack.)<br /><br />Here, the performances never mesh, as John Howard doesn't even look like he's in the right film \\xc2\\x96 though perhaps that was the intention, as Franklin plays sleepy, conservative suburbia against its more interesting inhabitants. 20-year-old virgins who live with their parents are becoming rarer on-screen, but this is hardly a reason to watch the film. In fact, the only reasons may well be (1) Howard's bizarre \\xc2\\x96 but quite fun \\xc2\\x96 performance, and (2) the 'suburban nightmare' theme, which has run through Somersault, Strange Bedfellows, Tom White, Alexandra's Project, Danny Deckchair, The Rage in Placid Lake, Traveling Light, Teesh & Trude, Swimming Upstream and Lantana, many of which are very good/excellent. Enter at own risk! May be one for people who titter at the word 'penis'. 4/10.\"\n",
            " b'There are no spoilers here... Because there is no plot to spoil. Madchen Amick is living proof a face can make a living acting-- no talent required. The only bright spot are a few really good one-liners delivered very nicely by Alice Krige, but then again, she IS Alice Krige. Her soft dreamy voice gives the only hint at just how seductively dangerous these odd creatures can be. She is believably creepy in this otherwise unbelievable plot. How they got her to agree to this project remains a mystery. The screenplay writers must have been medicated when they submitted this script. It has major continuity problems, superficial stereotypical characters, horror formula writing, and simply falls short of making any sense what-so-ever. The creatures, while they have neat skills like going \"dim\", the question of where they come from and what they are is never so much explored. <br /><br />Don\\'t waste any time on this one.'\n",
            " b\"This is widely viewed in Australia as one of the best cop dramas ever produced here ... and for my money, anywhere. It's raw, gritty, the characters are real, the situations are believable and it doesn't shy away from the darker side of life confronted every day by cops and the criminals, victims, lawyers and other people in their various orbits.<br /><br />This show ran for 2 seasons and was discontinued because the show didn't sell well overseas. We are all sorry for its loss: however, like Fawlty Towers, we will be able to revere this as a limited-length series of uniformly high quality.\"\n",
            " b\"THE BROKEN is part of the After Dark Horrorfest III. Not a slasher or filled with gore. Plenty of broken glass and mirrors in this edgy thriller from France and writer/director Sean Ellis. A successful radiologist Gina McVay(Lena Headly)inters a strange world as her life seems to spiral out of control. While attending her father's(Richard Jenkins)birthday party, the guests are stunned when a mirror crashes to the floor for no obvious reason. Things get really strange when she witnesses a woman that is the spitting image of herself driving down a London street in a car identical to her own. Gina sneaks to her doppelganger's apartment and finds a photo of herself with her father. She drives away and is involved in a head on collision. Then mysteriously her boyfriend is not the same; to be exact family and friends are not easy for her to trust. Is Gina beside herself? Is she in a parallel world? Her nightmares become more horrific...is she broken?<br /><br />Kudos if you can figure this one out...it won't be easy. Editing couldn't be any tighter. Lighting is questionable. Other players: Melvil Poupard, William Armstrong, Michelle Duncan and Ulrich Thomsen.\"\n",
            " b'\"Grey Matter\" AKA \"The Brain Machine\" but the video people thought better of that; the screen says 1972 but IMDb says 1977; it\\'s that kind of movie. The government has some kind of overriding interest in this \\'brain machine\\' project that has drafted four people - who turn out to be, roughly, a philosopher, a horny priest, a crackpot veteran and a patriot who got an abortion - to sit in a shrinking room with a computer that can read their horrendous secret thoughts. In the end the government takes over the lab by force and everybody dies. Here is a movie that is incompetent in every important way; MY s*** has better production values than this. It held my interest, though, just to see what exactly these exploitation filmmakers thought they were doing, dabbling in four-guys-in-a-room character drama. The answer: a tract about how science is inferior to God. Thanks a lot. It\\'s like opening a Kinder egg and getting your 30th goddam jigsaw puzzle. The priest is played by James \"Roscoe P. Coltrane\" Best, the philosopher by Gerald \"the Republican Simon\" McRaney. Also featuring very, very, very long establishing and transition shots in great quantity, this moves almost as slow as the Liberal convention.'\n",
            " b\"The thing viewers will remember most is the bad headache the movie has given them due to the overly flashy, shaky, camera-work and the fast, confusing cutting. I am not against those kind of stylistic devices if they are done right like Oliver Stone and Steven Soderbergh proof with most of their movies, but in this case there was WAY too much. It seems like the jump-cuts and light flashes that accompanied every flight over Mexico city and every important scene were there to distract you from realizing that the story is quite thin and the whole thing was very predictable. The biggest disappointment lies in the fact that you can easily figure out how the whole thing is going to end. For a movie that pretends to be violent, ruthless and morally corrupt it is inexcusable that it's story has been told so many times and with a lot more depth and character development. That is another disappointing aspect of the movie. If I want to watch an over the top action flick I do not need any justification, but this movie tried to justify the killing spree of Denzel Washington's character and poorly failed in delivering any believable performances. The first half hour or so nothing much happens except that dumb archetypes and clich\\xc3\\xa9s are portrayed and when the action machine starts rolling it is so quickly cut that you do not know what really happens. So the movie does not work either on the level of a believable drama/thriller , nor as a pure action movie. Of course the movie is not as bad as some oft the totally messed up blockbusters of the last years, but I absolutely cannot understand why so many people claim this movie to be something fresh and so cool. For a video clip it is way too long and for a movie it has too little substance.\"\n",
            " b'Poor performances by Sinatra, Martin and Hyer. Grossly underdeveloped supporting characters. Annoying talky with no real plot. Ending leaves you flatter than a pancake, with more loose ends than you could tie up in four sequels (that is, if you even cared about these wooden characters). MacLaine is the only real asset. That penultimate sequence in which the \"Chicago hood\" searches for the Sinatra character is laughable. The music in that sequence also is poor. And in the final scene when Martin\\'s character removes his hat for the woman he called a \"pig,\" almost made me go outside and find a stone to throw through my television screen.'\n",
            " b\"Well after three times through I still have no idea what this movie is about because, quite honestly, it failed to generate any real interest or concern. But here it goes: A bunch of too old to be teen Teen Actors dressed in horrifying latter 1980's fashions (did WE look like that too??) decide it would be a really good idea to get in a motorboat and go visit the abandoned Alcatraz after one of them has nightmares of people being slaughtered in various horrifying ways that manage to rip off POLTERGEIST, THE EVIL DEAD, and Freddy Kreuger in one fell swoop. The dimwit even envisions himself being roasted over an open fire with some deformed freak slicing off strips of tenderloin. Good thing it was only a dream or it might have hurt, and good thing his dreams had a decent special effects budget. Mine are usually pretty lame: Girls, model space ships, blowing things up with a bazooka, etc.<br /><br />Once on the Alcatraz island they find themselves in a Slasher movie, and meet up with Tony Basil, who cannot help but break into a couple dance poses at times and had her own lighting crew (complete with a smoke machine for that 1980's smoky haze infused light look, which I kind of miss). And such reminded me that Ms. Basil helped choreograph David Byrne of the Talking Heads for some of his videos and performances. This of course has nothing at all to do with the film but kept popping into mind as the movie posed very little to actually think about. It sort of happens, and you can either watch or keep working on your page markup with it on the TV set off to the side. But since the film isn't really interesting, you'll keep deciding to finish one last thing instead of wasting time, the movie will keep ending, and you'll find yourself wondering what you missed every time you realize the end credits are starting to roll again, dammit ...<br /><br />*SOME* 1980's Teen Horror movies can survive such specialized viewing: Umberto Lenzi's GHOSTHOUSE, CHOPPING MALL & it's Killbots, the hard to ignore NIGHT OF THE CREEPS and the over-the-top SLEEPAWAY CAMP all come to mind. They are films that, like them or not, demand your attention and usually pay off with some good gore or T&A, and typos in your work as evidence that you were watching the TV instead of your keyboard. I am sure that HELL ISLAND (as the British version I glommed onto is titled) does indeed have some good stuff in there, but frankly I don't care. And nothing is more annoying that encountering art of any genre that doesn't inspire admiration, some decent dislike or even good old honest hatred for it. The film is content with simpering away 80-whatever minutes of time and never really accomplishing anything more than being a sometimes distraction in spite of my best efforts to try and give it a chance, but no dice.<br /><br />There is some offbeat production design going on, the use of lighting is striking at times, and the occasional outburst of mayhem will probably keep fans of 1980's Teen Horror interested. The rest of you be warned though: YOU WILL WONDER IF YOU DRESSED LIKE THAT IN 1987, and the answer is probably more hideous than anything which happens on screen. Try to watch it as a free rental if possible so that if disappointed you aren't stuck with the damn thing: Movies like this take up valuable shelf space that is often at a commodity these days, what with the world coming to an end & all ...\"\n",
            " b'I initially bought this DVD because it had SRK and Aishwarya Rai on the cover and I thought, hey! another film starring Aishu and Shah Rukh, little did I know that Aishwarya would only appear in an item number in the last quarter of the film in a song which she shares with SRK and helps introduce his character who is in the film for about just 15 minutes. Shakti is a film about a mother\\'s love and endurance. It\\'s a film about transformations, ignorance, coming of age, stepping into the know and embracing the harsh realities of life. The item number in which SRK and Aishu appear in has nothing to do with the movie. It\\'s actually a dream sequence that occurs while SRK\\'s drunken character is knocked unconscious by booze. He dreams that Aishwarya Rai is this sexy street girl who shows up at his favourite hangout spot one day, dressed scantily and begins to seduce him. The title of the song is \\'Ishq Kamina\\' (loosely translated as \"Love\\'s a bitch!\") and it is just plain smoking hot! Don\\'t miss it.'\n",
            " b'Like all the Taviani Brothers films, this one looks great, but it is rotten to the core with false romanticism, and coincidences heap upon each other in some facsimile of a \"story\". In actuality, this is really just a sentimentally cheap tear jerker posing as an intellectually distinguished art film.'\n",
            " b'Millie is a sap. She marries a rich guy named Maitland and they have a child. She then catches him cheating on her and divorces him...but lets him keep the kid she claims to love. Back then in the early 1930s, she would have been entitled to hefty spousal and child support but lets the guy off amazingly easy...with no support...what a sap! Later, when she has a boyfriend and life seems pretty good, he turns out to ALSO be a cheat! Wow, does she have a hard time picking men.<br /><br />As a result of these bad relationships, Millie changes. Now she\\'s a wild party girl--doing everything she can to distract herself from her hard luck. Suddenly, many years pass. Millie\\'s daughter who she left early on in the film is now 17 and oddly fashions haven\\'t changed one bit. An old friend of Millie\\'s (yes, it\\'s another evil man!) is now pretending to be the daughter\\'s friend, but he has lecherous designs on her. Millie promises him that if he touches the girl, she\\'ll kill him. Take a wild guess what happens next! <br /><br />Overall, the film is a confusing and often bizarre mess--a bit like \"Madam X\" but much, much less focused. So often Millie\\'s motivations and actions seem to make little sense. And, the film seems to have a little of everything tossed into it--so long as it substantiates the notion that all men are pigs. Unusual but not particularly good.'\n",
            " b'In the Tower of Babel installment of the mini-series, the narrator describes the builders of the tower as \"the descendants of Moses.\"<br /><br />That\\'s like saying George Washington lived many centuries before Alexander the Great.<br /><br />Or that the light bulb was invented before the wheel.<br /><br />Or that the guided missile was the forerunner of the bow-and-arrow.<br /><br />Need I say more?<br /><br />The writers of The Greatest Heroes of the Bible should have at least paid closer attention to the chronologies of Biblical people and events.'\n",
            " b'The New Batman Adventures (also called Gotham Knights) takes place 5 years after the final episodes of Batman: the Animated Series (B:TAS) and only aired for 24 episodes. This isn\\'t a horrible show, but it just isn\\'t as good as the original Batman Animated Series. I\\'ll start with all the things that I found not to be very good.<br /><br />First thing\\'s first, the animation itself: long and sweet, Gotham isn\\'t dark anymore, the sky is always bright red and orange, B:TAS did this also, but it was drawn on a dark palate, do the colour of the sky was more ominous, in this show, the colour of the sky is too bright. It all just looks like any other kids show and doesn\\'t seem unique like Batman: TAS did with it\\'s dark, cool art style on Gotham. The art style is OK, but doesn\\'t remind me of Batman anymore. Every character is comprised of straight lines, squares, and triangles making characters look less human-like. In the original series (B:TAS), characters look more like drawn versions of real people. The animation may be more consistent here than in B:TAS, but it definitely isn\\'t as good. <br /><br />Next: some of the episodes seem too dumbed down and childish, but some of the subject matter is even stronger than in B:TAS.(Two-Face attempting to kill Tim Drake/Robin 2, and some villains get some pretty harsh treatment). This leads me to my next point.<br /><br />Because this is supposed to take place in the future as well as the final episodes of the Batman Animated Universe, many villains do meet their demise or leave forever. Poison Ivy apparently drowns when a cruise ship explodes; Two-Face nearly kills Penguin, Killer Croc, and himself, so he\\'s moved to Arkham forever; Joker falls into the exhaust tower of an industrial plant (though he will return later on the Justice League Animated Series); Catwoman moves away to France leaving Batman, etc... Just because the series is ending does not mean that they have to get rid of some great characters! The villains\\' motives are pretty bad, too. There are none! In B:TAS, we learn that these villains are mentally tormented and their lives are ruined, that\\'s why they act the way they do, in this show, the villains are just committing crimes to progress the story. It\\'s like Batman just doesn\\'t even care about saving whatever sanity there is left in the people that he fights, he just beats them senseless. This Batman is a colder and meaner version of the character, but since he\\'s been doing this job for years, I can see why he is so harsh. <br /><br />Next, the redesigned character models: they\\'re awful. Gordon slimmed down about 100 pounds... is he sick? Many villains look STUPID (Joker, Riddler, Catwoman, Mr. Freeze, Mad Hatter, and Killer Croc are among the WORST). Although, I do think that some characters look better (Bane, Scarecrow, Batgirl). Harley is about the same, and Ivy (who is even hotter now) has pale green skin.<br /><br />With the series having many faults, some episodes are great- Over the Edge, Mad Love, Beware the Creeper, Girls Night Out, Old Wounds, Legends of the Dark Knight, and Never Fear are my favourite ones here, in my opinion. All of the crossovers featuring Batman in the Superman Animated Series were great, also.<br /><br />The absolute WORST part about this show is how the creators say they love the animation of this series more than the original. On the DVD features of the original Batman Animated Series, they talk about how proud they were with the art style, and how difficult some characters were to animate, but they did eventually succeed with (the difficult animation necessary to animate Clayface, for example). On the DVD features of the New Batman Adventures, the creators basically say \"To Hell with B:TAS, this is a fresh, new re-vamp, it looks better and we love how we NEARLY RUINED THE SERIES!\" (Alright, that is an exaggeration). When the creators cast away the amazing art style of B:TAS, that really annoyed me!<br /><br />It\\'s not a bad show, but I still don\\'t like it as much as the original animated series. At least the show doesn\\'t talk down to its audience, so for that reason, I still commend it. Though some of the episodes in this new series are fantastic and worth watching. <br /><br />Superman: the Animated Series, and Justice League: the Animated Series are great follow-up shows to Batman: the Animated Series and The New Batman Adventures, so give them a watch as well.'\n",
            " b\"This is the best picture about baseball since Redford whacked The Natural our way. Dennis Quaid and Rachel Griffiths light up the screen with a great story and a cast that seemed real enough to pull you into their lives. <br /><br />Laced with dreams - dripping in reality, the American Dream reignites after 9.11 with a true story about the Devil Ray's mid-life rookie, Jimmy Morris. Australian born actress, Rachel Griffiths, plays a native West Texan better than a lot of Texans I know; and Dennis Quaid was perfection \\xc2\\x85 cast as the wannabe, gonnabe and humble winner with as much psychological baggage as the average viewer in the audience. It's real. The on-screen chemistry works. If you like baseball heart-warmers, you're going to love this film. The ingredients for Americana and apple pie were all in there. My popcorn became the \\xc2\\x91a la mode'. <br /><br />And hey: buy the CD! The music rocks and carries the story magnificently! Syncing words and music pushes the story forward exactly the way it should, an area that disappoints me more often than not.<br /><br />Criticisms: I'd have given the baseball to somebody else. But Quaid has something to teach us all about \\xc2\\x91character' and heart. St. Rita and the nuns were a nice decoration, but they never really found their place in the story to open and close around them. A little long. Worth every minute in the last analysis. 8 / 10. <br /><br />\"\n",
            " b'This installment very much makes the CIA look like a very foolish organization. In reality, perhaps they are. After all, the way the plot goes on this it very much looks like one man has the power to sanction killing everyone including his own people in order to kill Jason Bourne.<br /><br />Matt Damon does a very credible job as Bourne trying to stay one step ahead of being killed the entire film. He is still trying to remember who he was & how he has gotten where he is. He gets help from a couple of folks & it seems like every minute of the film, somebody is trying to kill him.<br /><br />There is little time for rest in this film & the action sequences seem very very real. There are a lot of chase sequences filmed with the shaky cam which in a way add to the realism & make it seem less Hollywood than many pictures. These sequences add realism to the film in feeling.<br /><br />The suspense in some of the sequences is brilliantly done as you wonder if someone is going to die or if Bourne can head them off. This is the kind of action suspense you go to see when you want to be entertained & I am sure this one will lead to the next film in the series.'\n",
            " b\"I saw this film for the very first time several years ago - and was hooked up in an instant. It is great and much better than J. F. K. cause you always have to think 'Can it happen to me? Can I become a murderer?' You cannot turn of the TV or your VCR without thinking about the plot and the end, which you should'nt miss under any circumstances.\"\n",
            " b'I had the opportunity to see this film twice at the 2006 Moving Picture Festival In Birmingham, Alabama. I enjoyed it so much that I watched it a second time when they had an encore screening.<br /><br />When I think of the films that are shown at festivals, I usually expect them to be edgy and offbeat, often with the feel of an elaborate student project. There\\'s nothing wrong with these types of projects of course, and I enjoy the unique styles of independent films, but sometimes I want to see a more mainstream approach to independent film-making. By \"mainstream,\" I mean more like a film produced for national release - In other words, a movie that you would see in a regular movie theater.<br /><br />The writing, directing, cinematography, casting and acting in this movie are all totally pro. There is nothing typically independent about this film. As an aspiring director, I am always looking for movies that will motivate me to stop procrastinating and push harder to get my career going. This is one of those films. As I watched The Big Bad Swim, my motivation level was incredible. I felt like my adrenaline had kicked in. The reason I felt this way was because I was so impressed with every aspect of this production. I left the theater excited and ready to start writing that long put-off project. When a movie makes me feel like that, I know it\\'s really good. This is the first feature-length project from Ishai Setton and I found myself wishing that It had been my project. For me, that\\'s really rare.<br /><br />See this film. It\\'s beautifully shot and directed, and the casting is excellent. Paget Brewster delivers a very believable and likable performance. She has a quality about her, a charisma, that really draws you in and keeps you focused on her any time she is on screen. She makes you feel like you know her personally as a friend. That\\'s a gift. I think the industry is really missing out by not utilizing her acting abilities more often. Jeff Branson and Jess Weixler also did top-notch jobs. I can not say enough nice things about The Big Bad Swim. I look forward to future projects from all of those involved in its production.'\n",
            " b\"I don't know why some guys from US, Georgia or even from Bulgaria have the courage to express feelings about something they don't understand at all. For those who did not watch this movie - watch it. Don't expect too much or don't put some frameworks just because this is Kosturica. Watch the movie without prejudice, try to understand the whole humor inside - people of Serbia DID actually getting married while Bil Clinton bomb their villages, gypsies in all Balkans are ALWAYS try to f*ck you up in any way they can, LOVE is always unexpected, pure and colorful, and Balkans are extremely creative. For those who claims this is a bad movie I can see only that the American's sh*t (like Meet Dave, Get Smart etc) are much much worse than a pure, frank Balkan humoristic love story movie as Promise me. The comment should be useful and on second place should represent the personal view of the writer. I think the movie is great and people watch it must give their respects to the director and story told inside. It is simple, but true. It is brutal, but gentle and makes you laugh to dead.\"\n",
            " b'Recap: Something mysteriously dense that transmits radio signals is discovered in the ice of Antarctica. The mysterious block is dug out and brought to a research station on Antarctica. Julian Rome, a former SETI-worker, is brought in to decipher the message. Problem is that one of the researchers is a old girlfriend of his, and the situation quickly turns awkward, especially since the other female researchers practically throw themselves at him. And the block of ice with the thing inside is melting unnaturally quickly. Soon the object is in the open. The mystery continues though as the object generates a huge amount of electricity. It is decided to open the object, but just before that is done, Julian decodes the signal. \"Do not open\". But too late, and the object explodes as it is finally breached, and two things unleashed on earth. The first is an alien, that had been dormant in the object, and the other is a virus that instantly kills the research staff. And Washington, that is suspiciously updated on this historic event, decides that those things can not be unleashed upon the earth. So a Russian nuclear submarine, carrying nuclear weapons is sent to Antarctica.<br /><br />Comments: The movie holds a few surprises. One is Carl Lewis who surprisingly puts in a good acting performance, and the other is that the special effects that are beautiful, well worked through and a lot better than expected. Unfortunately the story holds a lot of surprises of its own, and this time not in a good way. Actually it is so full of plot holes that sometimes the movies seem to consist of almost randomly connected scenes. It is never really explained why Washington know so much, why Washington is able to command Russian submarines, why the object is in the Antarctic and has woken up now. It is really puzzling that the alien pod is transmitting in understandable English. Some might want to explain this with that the alien had been to Earth before and knew the language (and obviously chose English, why?). But then it is very confusing why the nice aliens that apparently want to save the Earth from the virus, send their \"Do not open\" message encoded! And finally the end is as open as an end can be.<br /><br />The movie is a little entertaining but too much energy (from me) must be diverted to fill in the voids in the plot. Therefore the total impression of the movie is not too good.<br /><br />3/10'\n",
            " b\"Henry Fonda brilliantly captures what we have long believed Abraham Lincoln was like. It is a fooler. Through Fonda's performance we are led to believe (on the surface) that Abraham Lincoln was a country bumpkin. But, through his confrontation with the lynch mob and especially during the court proceedings, you can see that beneath the exterior posturings is a brilliant man who has a very good command of what is going on around him and how to influence the people around him. <br /><br />In this movie Henry Fonda shows that he has a very good grasp of how to present humor. It is an aspect of him that has been lost over the years. When he is telling stories and jokes he has the timing down perfect. There is a sequence in the trial that had me laughing quite hard. He shows this gift again in The Lady Eve in 1940.<br /><br />The ending by John Ford is absolutely brilliant with Henry Fonda going to the top of a hill and in the distance a tremendous storm symbolic of the Civil War. He goes forward into history. The movie is fiction but the insight into Lincoln is tremendous. Definitely worth seeing again.\"\n",
            " b\"Ira Levin's Broadway smash comes to the screen with hardly any meat on its bones, a mystery plot with just a few tricks and twists but nobody worth caring about. Frustrated writer Michael Caine plots to steal the work of a brilliant young man and pass it off as his own; his devious plan may include murdering the talented kid, which has Caine's flighty spouse up in arms. The first act in which everyone is introduced is excruciatingly dead, with Caine doing everything an actor can to keep the pacing up. Dyan Cannon is miscast as his wife (she's too smart and clever herself to be passed off as a ditz) and Christopher Reeve (in the middle portion of the film) seems extremely uncomfortable in the role of the better writer. These three characters, and Irene Worth's bothersome neighbor, are so undefined that what happens after the set-up barely even registers until well after the second act has begun. Sidney Lumet's direction is stagy and fuzzy, the set design unconvincing and poorly-lit, and the finale is a total disaster. The actors struggle to give the script some substance, but with such thin material all we see are their laborious efforts. *1/2 from ****\"\n",
            " b'Darcy and her young daughter Pamela are heading out to the country where her mum\\'s boyfriend Peter left his doctor\\'s position in the city to become a writer and fix up a bed and breakfast inn. Although this inn has a terrible past and Pamela learns from one the girl\\'s who lives in the town that a deformed witch once reside in that house. They called her the \\'Tooth Fairy\\' as she would kill kids after getting their last baby tooth. This work on the inn, has awoken the \\'Tooth Fairy\\'. Now she has her sights on Pamela and her last baby tooth, but if any gets in the way they face the same fate that awaits Pamela.<br /><br />This flick\\'s old folk myth of the \\'Tooth Fairy\\' doesn\\'t paint her in a very generous way, as you would believe when you were a child. Don\\'t they just love turning happy childhood memories into nightmares! Another one which did fall into the same category was \"Darkness Falls (2003)\". I can\\'t compare how similar they are in the premises, because I haven\\'t seen the latter, but I mostly read they have basically share the same idea. For a little straight to DVD film, this DTV effort looks good and has some promising images surrounding the senseless and traditionally by the book plot device. Low expectations are needed, as I wouldn\\'t class it as an success, but I found it be to marginally entertaining.<br /><br />Cory Strode and Cookie Rae Brown\\'s story or background for this \\'Tooth Fairy\\' character is completely bare with it leaning more towards a slasher vehicle than anything really supernatural. Silly is a good way to describe what\\'s happening in this poorly scripted story, but it never really feels like a fairytale horror. The dialogues can seem rather redundant and morally hounded. While the acting is simply sub-par with the bland characters they have to work off, but director Chuck Bowman offers up some inventive blood splatter and terribly nasty jolts. This kinda makes up for the lack of suspense, the zero scares and generic tone. His direction is reasonably earnest and visually able, where he gets some atmospheric lighting contrasting well with its slick photography. The promising opening scene is creepily effective. His pacing can slow up in parts and there\\'s the odd and unnecessary slow-motion scene put in, but nonetheless it never gets too stodgy with something active occurring which made sure that I wasn\\'t bored.<br /><br />The make-up special effects provided the goods, as there\\'s enough repulsive gruel and the Tooth Fairy\\'s appearance is especially gooey. The figure of the tooth Fairy can look threatening in its black robe, bubbling make-up and swift movements. Being on location helps carve out a more natural feel and can get atmospherically rich in its sense of eeriness. Child actors can be incredibly annoying, but Nicole Mu\\xc3\\xb1oz was decent in her part. Lochlyn Munro and Chandra West are somewhat solid, but can be a little too causal in their performances as Peter and Darcey. The radiantly gorgeous Carrie Anne Fleming is one of their lodgers. P.J Soles shows up in small part as a superstitious neighbour who tries to warn them about the evil that lurks at the inn.<br /><br />I thought it was a okay time-waster that has a sound concept, which just isn\\'t fleshed out enough and the execution is pretty textbook stuff. Watchable nonsense, but at the same time extremely forgettable.'\n",
            " b'I really enjoyed the pilot, it was as amazing as I hoped it would be, if not better. Patrick Warburton was a riot, although at first i thought that I wouldn\\'t be able to stand his character. Him and Megyn Price Had little chemistry at all, but hopefully as the season goes on they\\'ll get more comfortable around each other. It must have been weird for Megyn to go from being the star on her last show [\"Grounded For Life\"] to being a co-star. <br /><br />Bianca Kajlich and Oliver Hudson seem really new to the whole Sitcom scene, but I think in time they\\'ll get better. David Spade\\'s character, to my surprise, wasn\\'t the whole focus of this pilot. The way he delivers his lines is so different from anyone else i\\'ve ever seen on TV, but I think that it is just his style. It works for him.<br /><br />I think that couples, or even singles, will be able to relate to all the doubts and fights and being unsure about your decisions, that this show is about. All the situations that the characters are put in just feel like real life, not sugar-coated like most shows.<br /><br />I hope for all the actors sakes that CBS gives them a chance. This show has the potential to be one of the best series, if just given the chance and time.'\n",
            " b'The only thing remarkable about this movie? is that all the actors could bomb at the same time. Idiocy. I want my money back...and I got it free from the library. Sheesh. I would rather chew on tin fool and shave my head with a cheese grater then watch this again.'\n",
            " b\"I saw this movie about a year ago, and found it to be completely Laugh-Out-Loud funny. A real winner, in my mind. It had the underlining of a stupid comedy, but indeed had an actual plot as well. Much like the hit comedy, Elf, in fact. It had a few serious moments, sandwiched between hilarity. When Stiller shot Black's horse, an ordinarily sober moment, you found yourself laughing at his bumbling antics. You can actually find common ground there, as I'm sure many people have done something they wouldn't want a friend to find out about, lest your friendship should end.<br /><br />When I found out how much people disliked this movie, I was completely dumbfounded. That absolutely terrible movies like Napoleon Dynamite had ratings higher than it makes me wonder about the sanity of people on IMDb. Take my advice and rent it. If you don't find yourself laughing at least once, I'll compensate you the rental fee. =D\"\n",
            " b\"Director Jonathan Lynn has made some underrated comedies in the past, like 'Greedy' and 'Clue'. This isn't one of them. More akin to a 'Police Academy' film than its inspiration, it stars Steve Martin in the old Phil Silvers role as an army sergeant forever pulling scams under the nose of his superiors. But the idyllic life of Bilko and his lazy platoon looks shaky when an old enemy visits the base determined to catch Bilko in the act. Nothing much happens, really. It's all quite dull. It's not very funny. Martin, Dan Aykroyd and Phil Hartman squeeze a couple of laughs out through sheer effort, but they're all better than this and it's quite painful watching them work with such thin material.\"\n",
            " b'Isn\\'t anyone else tired of that old clich\\xc3\\xa9\\' where a nearly dead person shows up in a horror film, gives us some informations, and then blasts his head off for no apparent reason? I know I am.<br /><br />The sad thing is that it\\'s use in this film is worthless. If you have seen the first film (the first remake I should say) then the information given is completely worthless, because you would have already known it. I guess, you can that it isn\\'t worthless to the main characters..but then why does the idiot shoot himself in the head? Wouldn\\'t he want to live? Sure, he would have died anyway..<br /><br />This is the second film to be titled \"The Hills Have Eyes II.\" The first being the sequel to the original 70\\'s film. This is where it gets a little complicated for someone like me. See, I\\'m probably part of minority of people my age that even knew there was a HHE2 to begin with, much less an original HHE1. And now that we have a sequel to a remake and the fact that this sequel is named exactly as the sequel to the original HHE1...it just makes it worse! But anyways..<br /><br />Wes Craven\\'s original Hills Have Eyes was decent. In the end, though, the idea was better than the presentation, but he most likely had a low budget. To be quite honest, Wes Craven isn\\'t that good of a horror director. He\\'s only made a few good horror movies (Nightmare on Elm St., New Nightmare), a few alright ones (Scream) and a bunch of horrible ones (Cursed, Shocker, Vampire in Brooklyn). Oh yeah, and he made Swamp Thing, as well...but the original HHE2 falls under the latter category. I\\'ve only seen a few minutes, but it was terrible.<br /><br />Now he has co-written the new HHE2..and it\\'s such a disappointment! Last year\\'s HHE remake was even better than the original film. It was tense. I guess it had to do with the fact that the main characters were a family, and not a bunch of beer and pot and sex crazy teenagers. It made us feel dirty. For the first hour, we were in hell, and finally in the last few moments, the good guys got revenge on the bad guys and it felt good..<br /><br />This new film has no tension. No suspense whatsoever. Just violent things happening to mostly stupid people. There is hardly any menacing presence here. Just ugly hobos hiding under rocks.<br /><br />I\\'m getting tired of horror movies where people die because of the stupid mistakes they keep making. It was just the other day that I watching \"Deep Blue Sea\" where Samuel L. Jackson kept on walking around the water, while giving the speech, and then he gets eaten by a shark, only because the idiot stayed to close to the water..something that nobody would do in the given situation! Here is the exact same thing. People go off by themselves to take a leak even though they know people are dying..seriously, couldn\\'t a potty break wait? And then when you think people would have learned, someone else goes of by themselves! Seriously, isn\\'t more scary when the characters are bringing their A-game and still losing? I would think so...<br /><br />It even under delivers. It should have made the first remake look like \"The Fog\" remake (which was less menacing than an episode of \"Becker\"). More bad guys. More time in the caves. More tension. More of everything.<br /><br />But it actually downgrades. Less bad guys. No tension. Sure we have more time in the caves, but not a whole lot happens there. In the end, it only seems like there is two or three bad guys. The last film made it seem like a whole tribe of people. Where is this tribe? Who keeps on watching them through binoculars? Seriously, these are the things this film should have brought us, but it ends with the exact same promise that the last film gave us, with that exact same \"being watched\" scene. Come on! I\\'ll give the devil it\\'s due. The look of the film is good..but thats it.<br /><br />I don\\'t even think fans of gore will like this..though I\\'m probably wrong! There is gore (though most of it is sped-up while in the dark), but without the tension, and characters you even care about..the gore does nothing in my book! In the end, you\\'re not frightened. You;re not shocked (unless you\\'re an 8 year old girl). You don\\'t even feel like you have seen anything new.'\n",
            " b'This is hands down the worst movie I can ever remember watching. Everything was unbelievably clich\\xc3\\xa9 and retarded. The acting was horrible too. The camera work wasn\\'t bad but that still couldn\\'t redeem it. The writer/director of this film must suffer from down\\'s syndrome if he believed this movie would help his career. I want the hour and a half of my life back that I wasted watching this crap. I would rather watch a video of the grass growing than this. I cant believe IMDb is making me write 10 lines in order to post this but I feel that this movie is so bad that I must continue to warn others about it. The reason I came about this movie is that my girlfriend requested it from the local library thinking that it was the Kris Kristoferson movie which ended up being entitled \"Disappearances\". I don\\'t know whose fault it was for this garbage ending up in my DVD player but I feel that someone owes me at least $20 for my time, pain and suffering. In conclusion, the director/writer of this movie better hope i ever recognize him on the street.'\n",
            " b'The \"Men in White\" movie is definitely one of the funniest, if not THE funniest, comedy movies I ever watched! (and I watched quite a lot!) It is about two garbagemen, who become \"Men in White\" and then stop an invasion from space. It is also a parody of lots of classic movies, such as \"Men in Black\", \"Star Wars\" or \"Dr. Strangelove\". Anyone who says that this movie is crappy has something wrong with his head. There are tons of funny gags and jokes here, and you might actually get injury to your mouth from laughing too hard (it happened to me!). If you can watch this movie on TV, watch it now - you certainly won\\'t regret it!'\n",
            " b\"Usually when a movie receives a vote of one it is because someone simply dislikes it and is annoyed it doesn't have a lower rating, and so decides to drag it down as much as they can instead of just giving it a low rating. This is not the case here.<br /><br />Bonesetter is a perfect example of a 0/10 film. It does nothing right and it doesn't have the chance to because it doesn't really attempt to do anything. There are strands of a bad D&D novel kind of plot which doesn't hold together and a complete lack of any kind of acting throughout. It is clear that nobody involved in this project gave it any kind of serious effort, because even a completely patently untalented persons' hard work would amount to more. A truly awful film.\"\n",
            " b'Time paradoxes are the devil\\'s snare for underemployed minds. They\\'re fun to consider in a \\'what if?\\' sort of way. Film makers and authors have dealt with this time and again in a host of films and television including \\'Star Trek: First Contact\\', the \\'Back to the Future\\' trilogy, \\'Bill and Ted\\'s Excellent Adventure\\', \\'Groundhog Day\\' and the Stargate SG1 homage, \\'Window of Opportunity\\'. Heinlein\\'s \\'All You Zombies\\' was written decades ago and yet it will still spin out people reading that short story for the first time.<br /><br />In the case of Terry Gilliam\\'s excellent film, \\'12 Monkeys\\', it\\'s hard to establish what may be continuity problems versus plot elements intended to make us re-think our conception of the film. Repeated viewings will drive us to different conclusions if we retain an open mind.<br /><br />Some, seeing the film for the first time, will regard Cole, played by Bruce Willis, as a schizophrenic. Most will see Cole as a man disturbed by what Adams describes as \\'the continual wrenching of experience\\' visited upon him by time travel.<br /><br />Unlike other time travel stories, \\'12 Monkeys\\' is unclear as to whether future history can be changed by manipulating events in the past. Cole tells his psychiatrist, Railly (Madeleine Stowe), that time cannot be changed, but a phone call he makes from the airport is intercepted by scientists AFTER he has been sent back to 1996, in his own personal time-line.<br /><br />Even this could be construed as an event that had to happen in a single time-line universe, in order to ensure that the time-line is not altered...Cole has to die before the eyes of his younger self for fate to be realised. If that\\'s the case, time is like a fluid, it always finds its own level or path, irrespective of the external forces working on it. It boggles the mind to dwell on this sort of thing too much.<br /><br />If you can change future events that then guide the actions of those with the power to send people back in time, as we see on board the plane at the end of the film, then that means the future CAN be changed by manipulating past events...or does it? The film has probably led to plenty of drunken brawls at bars frequented by physicists and mathematicians.<br /><br />Bonus material on the DVD makes for very interesting viewing. Gilliam was under more than normal pressure to bring the film in under budget, which is no particular surprise after the \\'Munchausen\\' debacle and in light of his later attempt to film \\'Don Quixote\\'. I would rate the \\'making of\\' documentary as one of the more interesting I\\'ve seen. It certainly is no whitewash and accurately observes the difficulties and occasional conflict arising between the creative people involved. Gilliam\\'s description of the film as his \"7\\xc2\\xbdth\" release, on account of the film being written by writers other than himself - and therefore, not really \\'his\\' film\\' - doesn\\'t do the film itself justice.<br /><br />Brad Pitt\\'s portrayal of Goines is curiously engaging, although his character is not especially sympathetic. Watch for his slightly wall-eyed look in one of the scenes from the asylum. It\\'s disturbing and distracting.<br /><br />Probably a coincidence, the Louis Armstrong song \\'What a Wonderful World\\' was used at the end of both \\'12 Monkeys\\' and the final episode of the TV series of \\'The Hitchhiker\\'s Guide to the Galaxy\\'. Both the film and the TV series also featured British actor Simon Jones.<br /><br />\\'12 Monkeys\\' is a science fiction story that will entertain in the same way that the mental stimulation of a game of chess may entertain. It\\'s not a mindless recreation, that\\'s for sure.'\n",
            " b\"In 1987, John Hughes wrote and directed 'Planes, Trains and Automobiles', which was a hilarious and poignant comedy \\xc2\\x96 the best thing he's ever done. Ten years on he's reduced to again recycling the plot of 'Home Alone' in this second sequel, which is not connected to the other films but is equally uninspired and sadistic. The four crooks \\xc2\\x96 that's right, four! And one of them is a girl! Congratulations, Hughes, for introducing this revolutionary change to the series! \\xc2\\x96 are electrocuted with metal chairs, brained with barbells and blinded with paint, ha ha ha haaaaaaaa ha, while the new kid is even less charming than Culkin. You'd think that the departure of almost all the key players from the first two films would stop Hughes from fossilising the same old routines, but the only surprise is that not even he turned up for 'Home Alone 4'.\"\n",
            " b'A good film with--for its time--an intense, sprawling, rather dark story somewhat reminiscent of John Ford\\'s \"The Searchers\" though not so brutal. The story starts fast and doesn\\'t let up, with several scenes of really good dialog between (Stewart\\'s) Jeff Webster, Ronda Castle and Sheriff Gannon. This film is in some ways reminiscent of \"Bend of the River\" (1952), also a Mann-Stewart work, but I found it far less sentimental and more interesting. There are a few caveats: a too-quickly wrapped up (and rather sentimental) ending; 24-year-old Corrine Calvert is not very convincing as a naive French teenager, and of course the film takes place in the Mythic West, a land of fable where the real laws of nations and physics don\\'t apply. But these are trivial concerns. James Stewart is surprisingly good as a dark, disengaged man who thinks he cares for no one but himself, and the mountain scenery can\\'t be beat. A fine Western costume drama.'\n",
            " b'12 year old Arnald Hillerman accidentally kills his older brother Eugene. His feelings are arrested by the fact that his family can not interact with him (or feel it is not the right thing to do). His ONLY refuge is his grandfather, who is the ONLY one who seems to have compassion on him. The Realism will captivate \"true-2-life\" movie lovers, but will not satisfy those that desire action & thrills.'\n",
            " b\"This Cecil B. DeMille epic of the old West contains what may be Jean Arthur's finest performance, as a hysterical, eccentric, incurably amoral, but devotedly doting Calamity Jane. She really pulled it off! Gary Cooper is at his most taciturn, but manages some occasional pithy sayings: 'The plains are big, but trails cross ... sometimes.' The story is a pastiche to end all pastiches. All the cowboy heroes of Western lore seem to be in there somehow except for Jesse James. Even Abraham Lincoln opens the story in person (or at least, DeMille would have us believe so). There is no room for anything so evanescent as subtlety, this is a 'stomp 'em in the face' tale for the masses. A remarkable thing about this film however is that it is a very early full frontal attack on what Eisenhower was eventually to name 'the military industrial complex'. It isn't just a story about gun-runners, but about arming anyone for money, and doing so from the heart of Washington. But let's not get into politics, let's leave that to DeMille, who can be guaranteed to be superficial. The chief interest of this film all these years later is that it uses the first film score composed by George Antheil, who has a lot to say about the job in his autobiography, 'Bad Boy of Music'. Antheil seems to have originated 'the big sound' adopted by all subsequent Westerns, whereby the plains sing out with the voices and sounds of countless cowboys in the sky, celebrating the open spaces and interweaving common melodies. That is why it does not sound at all unusual, because we have heard it a thousand times. But he seems to have been the first to summon up the combined rustlings of all the sage brush into this symphony of the open skies which has entered into American mythic lore, and given it a soundtrack which has never varied since then, corny as it may be, but doubtless appropriate. It is amusing to see Anthony Quinn in an early appearance as a Cheyenne Indian. Gabby Hayes is in there somewhere, but you miss him in the crowd. Gary Cooper overtops them all, looming large, - but when did he ever loom small?\"\n",
            " b\"This is not Michael Madsen's fault, he was hardly in it. This movie was just awful. If you want to laugh and be bored, go ahead and watch this movie. Words cannot describe how idiotic it is. Sorry Michael. The cinematography was dark. All the other actors are unknowns. When watching it, it feels like a soft porn, but with no nudity or heated scenes. This movie had sexual overtones, since it is about a underground S & M killer. The acting was bad, except Michael Madsen's parts. He looked like he wanted to laugh. I hope he got paid well for this lousy movie. It is something I would not be proud of. It is not even a B movie for cable, it is more like a F and it should never be shown, ever.\"\n",
            " b\"A country-boy Aussie-Rules player (Mat) goes to the city the night before an all-important AFL trial match, where he is to be picked up by his cousin. And then things go wrong.<br /><br />His no-hoper cousin has become mixed up in a drug deal involving local loan-shark / drug-dealer Tiny (who looks like any gangster anywhere but is definitively Australian). Needless to say, Mat becomes enmeshed in the chaos, and it isn't long before thoughts of tomorrow's match are shunted to the back of his mind as the night's frantic events unravel.<br /><br />Accomplished Western Australian professional Shakespearean actor Toby Malone puts in a sterling performance as young naive country-boy Mat, and successfully plays a part well below his age. Best support comes from John Batchelor as Tiny, and an entertaining role by David Ngoombujarra as one of the cops following the events. Roll is fast-paced, often funny, and a very worthwhile use of an hour.\"\n",
            " b\"OMG! The only reason I'm giving this movie a 2 instead of a 1 is because Tom Hanks is funny as an Elvis-in-the-box. Apart from that, how did this halfway decent cast sign on to do such a lame movie?? Maybe it seemed like a good idea at the time... There are no laughs to mention, the stereotypes are pathetic, the cast is wasted, the direction is amateurish. Now that I think about it, most of the blame probably lies with the director, Joel Zwick. He brings out nothing but flat performances from all involved. Don't waste your time like I did; but then, I enjoy a good train wreck. Geez, now the system is telling me I need more lines-- here ya go: This movie should be called Return to Sender. Okay, now THAT was funnier than anything in the movie...\"]\n",
            "\n",
            "label:\n",
            "[1 1 0 0 0 0 1 0 1 0 0 1 1 1 0 0 1 1 0 1 1 1 1 1 1 1 0 0 1 0 0 0 0 0 1 0 0\n",
            " 0 1 1 1 1 1 1 0 1 0 0 1 0 1 0 0 0 1 0 1 0 1 1 1 0 1 0]\n",
            "\n",
            "label length:64\n",
            "\n"
          ]
        }
      ]
    },
    {
      "cell_type": "code",
      "source": [
        "# train_ds[[\"label\"]]"
      ],
      "metadata": {
        "id": "7i9xGEiEo5o3"
      },
      "execution_count": 89,
      "outputs": []
    },
    {
      "cell_type": "code",
      "source": [
        "# text encoding\n",
        "\n",
        "encoder = tf.keras.layers.TextVectorization(max_tokens=Config.VOCAB_SIZE)\n",
        "\n",
        "encoder.adapt(train_ds.map(lambda text, label: text))"
      ],
      "metadata": {
        "id": "RhhuG8dMw5Lt"
      },
      "execution_count": 96,
      "outputs": []
    },
    {
      "cell_type": "code",
      "source": [
        "encoder"
      ],
      "metadata": {
        "colab": {
          "base_uri": "https://localhost:8080/"
        },
        "id": "FLtx7Cg8omIv",
        "outputId": "8c8761ca-868c-4d9e-d693-ec0faa39c03d"
      },
      "execution_count": 97,
      "outputs": [
        {
          "output_type": "execute_result",
          "data": {
            "text/plain": [
              "<keras.layers.preprocessing.text_vectorization.TextVectorization at 0x7f7c02d7c2d0>"
            ]
          },
          "metadata": {},
          "execution_count": 97
        }
      ]
    },
    {
      "cell_type": "code",
      "source": [
        "# first 20 tokens\n",
        "# trained data always contain text and labels\n",
        "\n",
        "vocab= np.array(encoder.get_vocabulary())\n",
        "vocab[:20]"
      ],
      "metadata": {
        "colab": {
          "base_uri": "https://localhost:8080/"
        },
        "id": "chlcp06_mNAy",
        "outputId": "490f113e-34d6-46cc-b91e-f383aa700ac0"
      },
      "execution_count": 98,
      "outputs": [
        {
          "output_type": "execute_result",
          "data": {
            "text/plain": [
              "array(['', '[UNK]', 'the', 'and', 'a', 'of', 'to', 'is', 'in', 'it', 'i',\n",
              "       'this', 'that', 'br', 'was', 'as', 'for', 'with', 'movie', 'but'],\n",
              "      dtype='<U14')"
            ]
          },
          "metadata": {},
          "execution_count": 98
        }
      ]
    },
    {
      "cell_type": "code",
      "source": [
        "example.numpy()[:3]"
      ],
      "metadata": {
        "colab": {
          "base_uri": "https://localhost:8080/"
        },
        "id": "yO_H2Cjynb-V",
        "outputId": "186f7479-e6e1-443b-d8a2-6cc2b2011cfd"
      },
      "execution_count": 99,
      "outputs": [
        {
          "output_type": "execute_result",
          "data": {
            "text/plain": [
              "array([b\"'Renaissance (2006)' was created over a period of six years, co-funded by France, Luxembourg and the United Kingdom at a cost of around \\xc2\\x8014 million. The final result is a staggering accomplishment of comic-book style animation, aesthetically similar to what Robert Rodriguez and Frank Miller achieved with 'Sin City (2005),' but this film employed motion capture with live-actors to translate their faces and movements into an entirely animated format. Presented in stark black-and-white, the film looks as though it has been hoisted from the very pages of the graphic novel on which it was based, and the futuristic city of Paris looms ominously above us. Directed by French filmmaker Christian Volckman, in his feature-length debut, 'Renaissance' draws significantly from other films in the science-fiction genre, and the tech-noir storyline isn't something we haven't seen before, but, from a technical standpoint, it is faultless.<br /><br />The year is 2054. The city of Paris is a crumbling metropolis filled with dark alleys and deserted footpaths, the recent installation of modern technology merely offering a thin mask to the pitiable degradation of the darkened buildings. The city's largest corporation, Avalon, achieved wealth through offering citizens the promise of beauty and youth, and the company's research department is continually striving to invent greater means of eliminating the aging process. Ilona Tasuiev (voiced by Romola Garai in the English-language version, which I watched) , a brilliant young scientist, is mysteriously kidnapped on her return from work, and so it falls to legendary detective Barth\\xc3\\xa9l\\xc3\\xa9my Karas (Daniel Craig) to uncover her current whereabouts. Possibly holding the key to the woman's disappearance is Bislane (Catherine McCormack), Ilona's hardened elder sister, whose trustworthiness is in question, and Jonas Muller (Ian Holm), the dedicated medical doctor who adored Ilona as his own daughter.<br /><br />The eerie, dimly-lit city of Paris is reminiscent of Ridley Scott's 'Blade Runner (1982),' and some of the technology looks as though it might have been borrowed from Tom Cruise in 'Minority Report (2002)' {which was, coincidentally, also set in the year 2054}. However, despite this familiarity, Volckman has created an exciting world for his characters to inhabit. Blending classic film-noir and science-fiction, the result is an eye-catching collage of harsh lighting and dark shadows, which, I should warn, occasionally becomes difficult on the viewer's eyes. The dialogue is a little banal at times, and the story, though engaging, doesn't offer anything strikingly original {except for the ending, which I thought was a bold twist on the usual formula}, but 'Renaissance' is intended to work best as a visual treat, and that it succeeds in this regard cannot be denied.\",\n",
              "       b\"A thin story with many fine shots. Eyecatchers here are the three ladies from the D.R.E.A.M. team. And, to a lesser extent, the guy accompanying them. Traci Lords convincingly acts out the female half of an evil business-couple intending to poison the world with antrax. Original in this movie is the bra-bomb, put on a captured member of the D.R.E.A.M.-team. Of course she is rescued by a co-member, three seconds before explosion. Although clearly lent from James Bond's 'Goldfinger' and 'You only live twice', such a climax always works well. All in all a nice watch, James Bond replaced here by three Charlie's Angels.\",\n",
              "       b\"Grieving couple move to a cabin on a mountain after the loss of their daughter, discovering that there may be ghosts haunting the place, restless spirits of past occupants who committed suicide. Julie Pyke(Cheri Christian)blames husband Allen(Greg Thompson)for the horrible death of their daughter due to leaving the door unlocked and the marriage has deteriorated because of it. Julie remains in a zombie state, eliciting next to no emotion, remote and numb, only photographing a nearby abandoned prison, finding a startling image of a ghoul girl clinging to the bars of a cell. Though Allen doesn't see anything out of the ordinary, Julie continues to take pictures and we can recognize that something isn't quite right. A local handyman, Jim Payne(Scott Hodges), a rather distant fellow who harbors a secret becomes a dangerous threat when it is revealed that his dead mother might have something to do with the haunts occurring to the Pykes. Meanwhile the neighbors who sold the Pykes the cabin find themselves victims as well, alcoholic Mr Booth's abuse to his wife coming back to haunt him. Allen will conduct an investigation into the history of his cabin, attempting to unravel the mystery about the place.<br /><br />Plenty of ghosts moving about in the background in this somber supernatural tale with practically every character miserable. Cheri Christian remains so vacuous and lost, it's incredibly hard to connect with her despite the fact that you understand her plight. The acting, as is often mentioned, remains frustrating because none of the characters exactly are easy to latch on to. I guess it's supposed to be this way, under their circumstances, but the trouble I had was never being able to properly embrace the Pykes due to their constant state of aloofness. Cheri comes off as cold and detached, as I figure a mother would tend to be when you lose a child in such a way, but the icy nature left me pleading inside to embrace her which I just never could. I think the right performers, even if the characters are going through an emotional turmoil, can grab the hearts of their viewers, if a humanity reaches out to us..in this movie's case, the leads are unable to do so, for whatever reason. It could've been me, I don't know. I wanted to care for them, but nothing in the characters tugged on my heart strings. Anyway, as the film continues, Allen slowly uncovers certain truths and must defend himself against his wife who has convinced herself that their daughter is among them and she won't lose her little girl again. Jim, the unstable neighbor who believes that to stop the hauntings plaguing the area he must kill the Pykes, becomes a vital threat. The ghosts remain a central part of the movie, their presence, particularly Jim's mother, established throughout, off in the distance. The finale reveals all of them as Allen must find help for his wife while trying to thwart Jim's mission. I had a hard time getting into this one due to my unease with the leads and their characters.\"],\n",
              "      dtype=object)"
            ]
          },
          "metadata": {},
          "execution_count": 99
        }
      ]
    },
    {
      "cell_type": "code",
      "source": [
        "encoder(example.numpy()[:3])"
      ],
      "metadata": {
        "id": "zXHoST5CmNEk",
        "colab": {
          "base_uri": "https://localhost:8080/"
        },
        "outputId": "6849f2c1-0db8-4f70-d270-2c33950e5482"
      },
      "execution_count": 100,
      "outputs": [
        {
          "output_type": "execute_result",
          "data": {
            "text/plain": [
              "<tf.Tensor: shape=(3, 515), dtype=int64, numpy=\n",
              "array([[  1,   1,  14, ...,   0,   0,   0],\n",
              "       [  4,   1,  64, ...,   0,   0,   0],\n",
              "       [  1, 365, 827, ...,   3,  65, 102]])>"
            ]
          },
          "metadata": {},
          "execution_count": 100
        }
      ]
    },
    {
      "cell_type": "code",
      "source": [
        "len(encoder.get_vocabulary())"
      ],
      "metadata": {
        "colab": {
          "base_uri": "https://localhost:8080/"
        },
        "id": "LPUflK0loL4Q",
        "outputId": "d3fda902-fd97-4a5d-a2bd-e4564288e75d"
      },
      "execution_count": 101,
      "outputs": [
        {
          "output_type": "execute_result",
          "data": {
            "text/plain": [
              "1000"
            ]
          },
          "metadata": {},
          "execution_count": 101
        }
      ]
    },
    {
      "cell_type": "code",
      "source": [
        "embedding_layer = tf.keras.layers.Embedding(\n",
        "    input_dim = len(encoder.get_vocabulary()), # 1000\n",
        "    output_dim = Config.OUTPUT_DIM, # 64\n",
        "    mask_zero = True\n",
        ") # it handles the variable sequences lengths \n",
        "# makes use of \n",
        "# <sos> - Start of Sentence\n",
        "# <pad> - padding\n",
        "# <eod> - End of the Data\n"
      ],
      "metadata": {
        "id": "cnCvi8OhmNIi"
      },
      "execution_count": 102,
      "outputs": []
    },
    {
      "cell_type": "code",
      "source": [
        "Layers = [\n",
        "          encoder, \n",
        "          embedding_layer, \n",
        "          tf.keras.layers.Bidirectional(\n",
        "              tf.keras.layers.LSTM(64)\n",
        "              ),\n",
        "          tf.keras.layers.Dense(64, activation=\"relu\"),\n",
        "          tf.keras.layers.Dense(1)\n",
        "]\n",
        "\n",
        "model= tf.keras.Sequential(Layers)"
      ],
      "metadata": {
        "id": "MfC5z52tn2zz"
      },
      "execution_count": 103,
      "outputs": []
    },
    {
      "cell_type": "code",
      "source": [
        "model.summary()"
      ],
      "metadata": {
        "colab": {
          "base_uri": "https://localhost:8080/"
        },
        "id": "zg2Tu9fqoaSs",
        "outputId": "a404ab74-3179-435e-dfa6-3d6a259df02c"
      },
      "execution_count": 104,
      "outputs": [
        {
          "output_type": "stream",
          "name": "stdout",
          "text": [
            "Model: \"sequential_1\"\n",
            "_________________________________________________________________\n",
            " Layer (type)                Output Shape              Param #   \n",
            "=================================================================\n",
            " text_vectorization_6 (TextV  (None, None)             0         \n",
            " ectorization)                                                   \n",
            "                                                                 \n",
            " embedding_1 (Embedding)     (None, None, 64)          64000     \n",
            "                                                                 \n",
            " bidirectional_1 (Bidirectio  (None, 128)              66048     \n",
            " nal)                                                            \n",
            "                                                                 \n",
            " dense_2 (Dense)             (None, 64)                8256      \n",
            "                                                                 \n",
            " dense_3 (Dense)             (None, 1)                 65        \n",
            "                                                                 \n",
            "=================================================================\n",
            "Total params: 138,369\n",
            "Trainable params: 138,369\n",
            "Non-trainable params: 0\n",
            "_________________________________________________________________\n"
          ]
        }
      ]
    },
    {
      "cell_type": "code",
      "source": [
        "# how many layers are supporting masking \n",
        "\n",
        "for layer in model.layers: \n",
        "  print(layer.supports_masking)  "
      ],
      "metadata": {
        "colab": {
          "base_uri": "https://localhost:8080/"
        },
        "id": "2litap2VozO_",
        "outputId": "39cfe572-45b5-480e-ff80-bb816dd89c23"
      },
      "execution_count": 106,
      "outputs": [
        {
          "output_type": "stream",
          "name": "stdout",
          "text": [
            "False\n",
            "True\n",
            "True\n",
            "True\n",
            "True\n"
          ]
        }
      ]
    },
    {
      "cell_type": "code",
      "source": [
        "model.compile(\n",
        "    loss= tf.keras.losses.BinaryCrossentropy(from_logits= True),\n",
        "    optimizer= tf.keras.optimizers.Adam(1e-4),\n",
        "    metrics= [\"accuracy\"]\n",
        ")"
      ],
      "metadata": {
        "id": "3YvvHCVXozw4"
      },
      "execution_count": 107,
      "outputs": []
    },
    {
      "cell_type": "code",
      "source": [
        "import time \n",
        "time.asctime().replace(\" \", \"_\").replace(\":\", \"\")"
      ],
      "metadata": {
        "colab": {
          "base_uri": "https://localhost:8080/",
          "height": 36
        },
        "id": "2uxKYUIFoz1m",
        "outputId": "2d0c9ce3-e31f-4039-c2a6-91bf9211d6ca"
      },
      "execution_count": 108,
      "outputs": [
        {
          "output_type": "execute_result",
          "data": {
            "text/plain": [
              "'Mon_May_30_210028_2022'"
            ],
            "application/vnd.google.colaboratory.intrinsic+json": {
              "type": "string"
            }
          },
          "metadata": {},
          "execution_count": 108
        }
      ]
    },
    {
      "cell_type": "code",
      "source": [
        "import time \n",
        "time.asctime().replace(\" \", \"_\").replace(\":\", \"\")"
      ],
      "metadata": {
        "colab": {
          "base_uri": "https://localhost:8080/",
          "height": 36
        },
        "id": "2rVBS_MsqaH4",
        "outputId": "0b6273df-cd44-4011-a8a3-e617b9fd57c5"
      },
      "execution_count": 109,
      "outputs": [
        {
          "output_type": "execute_result",
          "data": {
            "text/plain": [
              "'Mon_May_30_210029_2022'"
            ],
            "application/vnd.google.colaboratory.intrinsic+json": {
              "type": "string"
            }
          },
          "metadata": {},
          "execution_count": 109
        }
      ]
    },
    {
      "cell_type": "code",
      "source": [
        "# logs folder will be created \n",
        "def callbacks(base_dir= \".\"):\n",
        "\n",
        "  # tensorboard callbacks\n",
        "  unique_log= time.asctime().replace(\" \", \"_\").replace(\":\", \"\")\n",
        "  tensorboard_log_dir= os.path.join(Config.TB_ROOT_LOG_DIR, unique_log)\n",
        "  os.makedirs(tensorboard_log_dir, exist_ok= True)\n",
        "\n",
        "  tb_cb = tf.keras.callbacks.TensorBoard(log_dir= tensorboard_log_dir)\n",
        "\n",
        "  # ckpt callback\n",
        "  ckpt_file = os.path.join(Config.CHECKPOINT_DIR, \"model\")\n",
        "  os.makedirs(Config.CHECKPOINT_DIR, exist_ok= True)\n",
        "\n",
        "  ckpt_cb= tf.keras.callbacks.ModelCheckpoint(\n",
        "      filepath= ckpt_file, \n",
        "      save_best_only= True\n",
        "  )\n",
        "\n",
        "  callbacks_list= [\n",
        "                   tb_cb, \n",
        "                   ckpt_cb\n",
        "  ]\n",
        "  return callbacks_list"
      ],
      "metadata": {
        "id": "ZhDrjYBXqaMM"
      },
      "execution_count": 110,
      "outputs": []
    },
    {
      "cell_type": "code",
      "source": [
        "callback_list= callbacks()"
      ],
      "metadata": {
        "id": "GoLZgbiJqaRC"
      },
      "execution_count": 111,
      "outputs": []
    },
    {
      "cell_type": "code",
      "source": [
        "history = model.fit(train_ds,\n",
        "                    epochs= Config.EPOCHS, \n",
        "                    validation_data = test_ds,\n",
        "                    validation_steps = 30,\n",
        "                    callbacks= callback_list)"
      ],
      "metadata": {
        "colab": {
          "base_uri": "https://localhost:8080/"
        },
        "id": "TqSeXqgnqaU5",
        "outputId": "bd2250fe-713d-4249-e19f-9c47c5fd84aa"
      },
      "execution_count": null,
      "outputs": [
        {
          "output_type": "stream",
          "name": "stdout",
          "text": [
            "Epoch 1/10\n",
            "350/391 [=========================>....] - ETA: 1:21 - loss: 0.6564 - accuracy: 0.5502"
          ]
        }
      ]
    },
    {
      "cell_type": "code",
      "source": [
        "test_loss, test_acc = model.evaluate(test_ds)\n",
        "\n",
        "print(f\"test loss: {test_loss}\")\n",
        "print(f\"test accuracy: {test_acc}\")"
      ],
      "metadata": {
        "id": "7ons0AeDoz58"
      },
      "execution_count": null,
      "outputs": []
    },
    {
      "cell_type": "code",
      "source": [
        "def get_plot(history, metric):\n",
        "  history_obj= history.history\n",
        "  plt.plot(history_obj[metric])\n",
        "  plt.plot(history_obj[f\"val_{metric}\"])\n",
        "  plt.xlabel(\"Epochs -->\")\n",
        "  plt.ylabel(f\"{metric} -->\")\n",
        "  plt.legend([metric, f'val_{metric}'])\n"
      ],
      "metadata": {
        "id": "Ere5ipGnoz-h"
      },
      "execution_count": null,
      "outputs": []
    },
    {
      "cell_type": "code",
      "source": [
        "get_plot(history, metric= \"accuracy\")"
      ],
      "metadata": {
        "id": "dr_tD5onoaXn"
      },
      "execution_count": null,
      "outputs": []
    },
    {
      "cell_type": "code",
      "source": [
        "get_plot(history, metric= \"loss\")"
      ],
      "metadata": {
        "id": "dj9ErbPZoacr"
      },
      "execution_count": null,
      "outputs": []
    },
    {
      "cell_type": "code",
      "source": [
        "%load_ext tensorboard"
      ],
      "metadata": {
        "id": "Y2S2y0s7oahj"
      },
      "execution_count": null,
      "outputs": []
    },
    {
      "cell_type": "code",
      "source": [
        "%tensorboard --logdir base_log_dir/tb_log_dir"
      ],
      "metadata": {
        "id": "xZ2xb7uOzVdR"
      },
      "execution_count": null,
      "outputs": []
    },
    {
      "cell_type": "code",
      "source": [
        "sample_text = (\n",
        "    \"The movie was cool. The animation and the graphics were out of the world. I would recommend this movie.\"\n",
        ")"
      ],
      "metadata": {
        "id": "SWWA8v3jzVho"
      },
      "execution_count": null,
      "outputs": []
    },
    {
      "cell_type": "code",
      "source": [
        "model.predict([sample_text])"
      ],
      "metadata": {
        "id": "1sSzXMwpzVlr"
      },
      "execution_count": null,
      "outputs": []
    },
    {
      "cell_type": "code",
      "source": [
        ""
      ],
      "metadata": {
        "id": "JTWoiqv6z6hP"
      },
      "execution_count": null,
      "outputs": []
    },
    {
      "cell_type": "code",
      "source": [
        ""
      ],
      "metadata": {
        "id": "R-JJRCLZz6mA"
      },
      "execution_count": null,
      "outputs": []
    },
    {
      "cell_type": "code",
      "source": [
        ""
      ],
      "metadata": {
        "id": "kSHcNwImz6qc"
      },
      "execution_count": null,
      "outputs": []
    },
    {
      "cell_type": "code",
      "source": [
        ""
      ],
      "metadata": {
        "id": "SvDPz6HRzVqD"
      },
      "execution_count": null,
      "outputs": []
    }
  ]
}